{
 "cells": [
  {
   "cell_type": "markdown",
   "metadata": {},
   "source": [
    "## Описание данных:\n",
    "* train.csv - данные для обучения\n",
    "* test.csv - данные для подготовки самбита и проверки\n",
    "* sampleSubmission.csv - пример корректного но бесполезного сабмита\n",
    "* other.csv - необязательные данные для доп.статистик и прочих извращений (например обучение word2vec-а)\n",
    "\n",
    "## Описание полей:\n",
    "* id - внутренний идетификатор\n",
    "* name - название вакансии\n",
    "* description - текст вакансии\n",
    "* target - класс заинтересованности"
   ]
  },
  {
   "cell_type": "markdown",
   "metadata": {},
   "source": [
    "# Imports"
   ]
  },
  {
   "cell_type": "code",
   "execution_count": 2,
   "metadata": {},
   "outputs": [],
   "source": [
    "import re\n",
    "\n",
    "import pandas as pd\n",
    "import numpy as np\n",
    "\n",
    "from bs4 import BeautifulSoup\n",
    "from pymystem3 import Mystem"
   ]
  },
  {
   "cell_type": "code",
   "execution_count": 3,
   "metadata": {},
   "outputs": [],
   "source": [
    "from sklearn.model_selection import train_test_split, cross_val_score\n",
    "from sklearn.model_selection import StratifiedKFold, GridSearchCV"
   ]
  },
  {
   "cell_type": "code",
   "execution_count": 20,
   "metadata": {},
   "outputs": [],
   "source": [
    "from sklearn.metrics import classification_report, make_scorer, roc_auc_score\n",
    "\n",
    "from sklearn.pipeline import Pipeline\n",
    "\n",
    "from sklearn.feature_extraction.text import CountVectorizer\n",
    "from sklearn.feature_extraction.text import TfidfTransformer\n",
    "\n",
    "from sklearn.linear_model import LogisticRegression\n",
    "from sklearn.ensemble import RandomForestClassifier\n",
    "from sklearn.naive_bayes import MultinomialNB"
   ]
  },
  {
   "cell_type": "markdown",
   "metadata": {},
   "source": [
    "# Data analysis"
   ]
  },
  {
   "cell_type": "code",
   "execution_count": 5,
   "metadata": {},
   "outputs": [],
   "source": [
    "train = pd.read_csv('train.csv', sep='\\t', index_col='id')\n",
    "\n",
    "test = pd.read_csv('test.csv', sep='\\t', index_col='id')"
   ]
  },
  {
   "cell_type": "code",
   "execution_count": 6,
   "metadata": {},
   "outputs": [
    {
     "data": {
      "text/html": [
       "<div>\n",
       "<style scoped>\n",
       "    .dataframe tbody tr th:only-of-type {\n",
       "        vertical-align: middle;\n",
       "    }\n",
       "\n",
       "    .dataframe tbody tr th {\n",
       "        vertical-align: top;\n",
       "    }\n",
       "\n",
       "    .dataframe thead th {\n",
       "        text-align: right;\n",
       "    }\n",
       "</style>\n",
       "<table border=\"1\" class=\"dataframe\">\n",
       "  <thead>\n",
       "    <tr style=\"text-align: right;\">\n",
       "      <th></th>\n",
       "      <th>name</th>\n",
       "      <th>description</th>\n",
       "      <th>target</th>\n",
       "    </tr>\n",
       "    <tr>\n",
       "      <th>id</th>\n",
       "      <th></th>\n",
       "      <th></th>\n",
       "      <th></th>\n",
       "    </tr>\n",
       "  </thead>\n",
       "  <tbody>\n",
       "    <tr>\n",
       "      <th>0</th>\n",
       "      <td>Заведующий отделом/секцией в магазин YORK (Уру...</td>\n",
       "      <td>&lt;p&gt;&lt;strong&gt;В НОВЫЙ МАГАЗИН YORK (хозтовары) пр...</td>\n",
       "      <td>1</td>\n",
       "    </tr>\n",
       "    <tr>\n",
       "      <th>1</th>\n",
       "      <td>Наладчик станков и манипуляторов с ПУ</td>\n",
       "      <td>Обязанности:работа на токарных станках с ЧПУ T...</td>\n",
       "      <td>0</td>\n",
       "    </tr>\n",
       "    <tr>\n",
       "      <th>2</th>\n",
       "      <td>Разработчик С++ (Криптограф)</td>\n",
       "      <td>&lt;strong&gt;Требования:&lt;/strong&gt; &lt;ul&gt; &lt;li&gt;Опыт про...</td>\n",
       "      <td>0</td>\n",
       "    </tr>\n",
       "    <tr>\n",
       "      <th>3</th>\n",
       "      <td>Фрезеровщик</td>\n",
       "      <td>&lt;p&gt;Условия:&lt;/p&gt; &lt;ul&gt; &lt;li&gt;На работу вахтовым ме...</td>\n",
       "      <td>0</td>\n",
       "    </tr>\n",
       "    <tr>\n",
       "      <th>4</th>\n",
       "      <td>Мерчендайзер/продавец-консультант</td>\n",
       "      <td>&lt;p&gt;&lt;strong&gt;Компания Палладиум Стандарт - призн...</td>\n",
       "      <td>1</td>\n",
       "    </tr>\n",
       "  </tbody>\n",
       "</table>\n",
       "</div>"
      ],
      "text/plain": [
       "                                                 name  \\\n",
       "id                                                      \n",
       "0   Заведующий отделом/секцией в магазин YORK (Уру...   \n",
       "1               Наладчик станков и манипуляторов с ПУ   \n",
       "2                        Разработчик С++ (Криптограф)   \n",
       "3                                         Фрезеровщик   \n",
       "4                   Мерчендайзер/продавец-консультант   \n",
       "\n",
       "                                          description  target  \n",
       "id                                                             \n",
       "0   <p><strong>В НОВЫЙ МАГАЗИН YORK (хозтовары) пр...       1  \n",
       "1   Обязанности:работа на токарных станках с ЧПУ T...       0  \n",
       "2   <strong>Требования:</strong> <ul> <li>Опыт про...       0  \n",
       "3   <p>Условия:</p> <ul> <li>На работу вахтовым ме...       0  \n",
       "4   <p><strong>Компания Палладиум Стандарт - призн...       1  "
      ]
     },
     "execution_count": 6,
     "metadata": {},
     "output_type": "execute_result"
    }
   ],
   "source": [
    "train.head()"
   ]
  },
  {
   "cell_type": "code",
   "execution_count": 7,
   "metadata": {},
   "outputs": [
    {
     "name": "stdout",
     "output_type": "stream",
     "text": [
      "<class 'pandas.core.frame.DataFrame'>\n",
      "Int64Index: 200000 entries, 0 to 199999\n",
      "Data columns (total 3 columns):\n",
      "name           200000 non-null object\n",
      "description    200000 non-null object\n",
      "target         200000 non-null int64\n",
      "dtypes: int64(1), object(2)\n",
      "memory usage: 6.1+ MB\n"
     ]
    }
   ],
   "source": [
    "train.info()"
   ]
  },
  {
   "cell_type": "code",
   "execution_count": 8,
   "metadata": {},
   "outputs": [
    {
     "data": {
      "text/plain": [
       "0    106436\n",
       "1     93564\n",
       "Name: target, dtype: int64"
      ]
     },
     "execution_count": 8,
     "metadata": {},
     "output_type": "execute_result"
    }
   ],
   "source": [
    "train['target'].value_counts()"
   ]
  },
  {
   "cell_type": "code",
   "execution_count": 9,
   "metadata": {},
   "outputs": [
    {
     "data": {
      "text/html": [
       "<div>\n",
       "<style scoped>\n",
       "    .dataframe tbody tr th:only-of-type {\n",
       "        vertical-align: middle;\n",
       "    }\n",
       "\n",
       "    .dataframe tbody tr th {\n",
       "        vertical-align: top;\n",
       "    }\n",
       "\n",
       "    .dataframe thead th {\n",
       "        text-align: right;\n",
       "    }\n",
       "</style>\n",
       "<table border=\"1\" class=\"dataframe\">\n",
       "  <thead>\n",
       "    <tr style=\"text-align: right;\">\n",
       "      <th></th>\n",
       "      <th>name</th>\n",
       "      <th>description</th>\n",
       "    </tr>\n",
       "    <tr>\n",
       "      <th>id</th>\n",
       "      <th></th>\n",
       "      <th></th>\n",
       "    </tr>\n",
       "  </thead>\n",
       "  <tbody>\n",
       "    <tr>\n",
       "      <th>200000</th>\n",
       "      <td>Дизайнер-консультант мебели</td>\n",
       "      <td>&lt;p&gt;&lt;strong&gt;Обязанности:&lt;/strong&gt;&lt;/p&gt; &lt;ul&gt; &lt;li&gt;...</td>\n",
       "    </tr>\n",
       "    <tr>\n",
       "      <th>200001</th>\n",
       "      <td>Продавец-консультант (ТЦ на Пушкина)</td>\n",
       "      <td>&lt;p&gt;&lt;strong&gt;Обязанности&lt;/strong&gt;:&lt;/p&gt; &lt;p&gt;∙ конс...</td>\n",
       "    </tr>\n",
       "    <tr>\n",
       "      <th>200002</th>\n",
       "      <td>Менеджер по продажам</td>\n",
       "      <td>&lt;p&gt;Торговый Дом «Форт» это ведущая компания Пе...</td>\n",
       "    </tr>\n",
       "    <tr>\n",
       "      <th>200003</th>\n",
       "      <td>Продавец-консультант в магазин одежды (ТЦ Волн...</td>\n",
       "      <td>&lt;p&gt;&lt;strong&gt;Требуются продавцы консультанты в м...</td>\n",
       "    </tr>\n",
       "    <tr>\n",
       "      <th>200004</th>\n",
       "      <td>Специалист по охране труда</td>\n",
       "      <td>&lt;strong&gt;Обязанности:&lt;/strong&gt; &lt;ul&gt; &lt;li&gt; &lt;p&gt;осу...</td>\n",
       "    </tr>\n",
       "  </tbody>\n",
       "</table>\n",
       "</div>"
      ],
      "text/plain": [
       "                                                     name  \\\n",
       "id                                                          \n",
       "200000                        Дизайнер-консультант мебели   \n",
       "200001               Продавец-консультант (ТЦ на Пушкина)   \n",
       "200002                               Менеджер по продажам   \n",
       "200003  Продавец-консультант в магазин одежды (ТЦ Волн...   \n",
       "200004                         Специалист по охране труда   \n",
       "\n",
       "                                              description  \n",
       "id                                                         \n",
       "200000  <p><strong>Обязанности:</strong></p> <ul> <li>...  \n",
       "200001  <p><strong>Обязанности</strong>:</p> <p>∙ конс...  \n",
       "200002  <p>Торговый Дом «Форт» это ведущая компания Пе...  \n",
       "200003  <p><strong>Требуются продавцы консультанты в м...  \n",
       "200004  <strong>Обязанности:</strong> <ul> <li> <p>осу...  "
      ]
     },
     "execution_count": 9,
     "metadata": {},
     "output_type": "execute_result"
    }
   ],
   "source": [
    "test.head()"
   ]
  },
  {
   "cell_type": "code",
   "execution_count": 10,
   "metadata": {},
   "outputs": [
    {
     "name": "stdout",
     "output_type": "stream",
     "text": [
      "<class 'pandas.core.frame.DataFrame'>\n",
      "Int64Index: 170179 entries, 200000 to 370178\n",
      "Data columns (total 2 columns):\n",
      "name           170179 non-null object\n",
      "description    170179 non-null object\n",
      "dtypes: object(2)\n",
      "memory usage: 3.9+ MB\n"
     ]
    }
   ],
   "source": [
    "test.info()"
   ]
  },
  {
   "cell_type": "markdown",
   "metadata": {},
   "source": [
    "# Preprocessing"
   ]
  },
  {
   "cell_type": "code",
   "execution_count": 11,
   "metadata": {},
   "outputs": [],
   "source": [
    "def preprocessing(df, target_label=None):\n",
    "    df['description'] = df['description'].map(lambda t: BeautifulSoup(t, 'html.parser').text)\n",
    "    df['text'] = df['name'] + ' ' + df['description']\n",
    "    \n",
    "    df = df.drop(['description', 'name'], axis=1)\n",
    "    \n",
    "    if target_label is not None:\n",
    "        y = df[target_label]\n",
    "        df = df.drop(target_label, axis=1)\n",
    "        \n",
    "        return df['text'], y\n",
    "    \n",
    "    return df['text']"
   ]
  },
  {
   "cell_type": "code",
   "execution_count": 12,
   "metadata": {},
   "outputs": [
    {
     "name": "stdout",
     "output_type": "stream",
     "text": [
      "CPU times: user 6min 5s, sys: 1.16 s, total: 6min 6s\n",
      "Wall time: 6min 7s\n"
     ]
    }
   ],
   "source": [
    "%%time\n",
    "\n",
    "X_train, y_train = train.pipe(preprocessing, target_label='target')\n",
    "\n",
    "X_test = test.pipe(preprocessing)"
   ]
  },
  {
   "cell_type": "code",
   "execution_count": 13,
   "metadata": {},
   "outputs": [
    {
     "data": {
      "text/plain": [
       "id\n",
       "0    Заведующий отделом/секцией в магазин YORK (Уру...\n",
       "1    Наладчик станков и манипуляторов с ПУ Обязанно...\n",
       "2    Разработчик С++ (Криптограф) Требования:  Опыт...\n",
       "3    Фрезеровщик Условия:  На работу вахтовым метод...\n",
       "4    Мерчендайзер/продавец-консультант Компания Пал...\n",
       "Name: text, dtype: object"
      ]
     },
     "execution_count": 13,
     "metadata": {},
     "output_type": "execute_result"
    }
   ],
   "source": [
    "X_train.head()"
   ]
  },
  {
   "cell_type": "code",
   "execution_count": 14,
   "metadata": {},
   "outputs": [
    {
     "data": {
      "text/plain": [
       "id\n",
       "0    1\n",
       "1    0\n",
       "2    0\n",
       "3    0\n",
       "4    1\n",
       "Name: target, dtype: int64"
      ]
     },
     "execution_count": 14,
     "metadata": {},
     "output_type": "execute_result"
    }
   ],
   "source": [
    "y_train.head()"
   ]
  },
  {
   "cell_type": "code",
   "execution_count": 15,
   "metadata": {},
   "outputs": [
    {
     "data": {
      "text/plain": [
       "id\n",
       "200000    Дизайнер-консультант мебели Обязанности:  Рабо...\n",
       "200001    Продавец-консультант (ТЦ на Пушкина) Обязаннос...\n",
       "200002    Менеджер по продажам Торговый Дом «Форт» это в...\n",
       "200003    Продавец-консультант в магазин одежды (ТЦ Волн...\n",
       "200004    Специалист по охране труда Обязанности:   осущ...\n",
       "Name: text, dtype: object"
      ]
     },
     "execution_count": 15,
     "metadata": {},
     "output_type": "execute_result"
    }
   ],
   "source": [
    "X_test.head()"
   ]
  },
  {
   "cell_type": "markdown",
   "metadata": {},
   "source": [
    "# Machine learning"
   ]
  },
  {
   "cell_type": "code",
   "execution_count": 24,
   "metadata": {},
   "outputs": [],
   "source": [
    "def prediction_to_csv(y_hat):\n",
    "    from datetime import datetime\n",
    "    \n",
    "    df_predict = pd.DataFrame()\n",
    "    \n",
    "    df_predict['id'] = X_test.index\n",
    "    df_predict['target'] = y_hat\n",
    "    \n",
    "    today = datetime.today().strftime('%Y-%m-%d_%H-%M')\n",
    "    df_predict.to_csv(path_or_buf='./submission/submission_{today}.cvs'.format(today=today), index=False, sep=',')"
   ]
  },
  {
   "cell_type": "code",
   "execution_count": 25,
   "metadata": {},
   "outputs": [],
   "source": [
    "mystem = Mystem()\n",
    "\n",
    "def tokenizer(text):\n",
    "    lemm = mystem.lemmatize(text)\n",
    "    \n",
    "    return [x for x in lemm if re.match(r'[а-яёa-z]{2,}', x)]"
   ]
  },
  {
   "cell_type": "code",
   "execution_count": 26,
   "metadata": {},
   "outputs": [],
   "source": [
    "def print_grid_info(grid):\n",
    "    print('-'  * 10, 'BEST PARAMS', '-' * 10)\n",
    "    print(grid.best_params_)\n",
    "\n",
    "    mean_scores = grid.cv_results_['mean_test_score']\n",
    "    std_scores = grid.cv_results_['std_test_score']\n",
    "\n",
    "    print('-'  * 10, 'ROC_AUC SCORES', '-' * 10)\n",
    "    print(mean_scores)\n",
    "    print('-'  * 10, 'STD SCORES', '-' * 10)\n",
    "    print(std_scores)\n",
    "    \n",
    "    print('-'  * 10, 'MEAN OF ROC_AUC AND STD SCORES', '-' * 10)\n",
    "    print(mean_scores.mean(), mean_scores.std())\n",
    "    \n",
    "    print('-'  * 10, 'BEST USING', '-' * 10)\n",
    "    print(\"Best: %f using %s\" % (grid.best_score_, grid.best_params_))\n",
    "    \n",
    "    print('-'  * 10, 'CV RESULTS', '-' * 10)\n",
    "    print(grid.cv_results_)"
   ]
  },
  {
   "cell_type": "code",
   "execution_count": 27,
   "metadata": {},
   "outputs": [],
   "source": [
    "# cv = CountVectorizer(tokenizer=tokenizer, analyzer='word')\n",
    "\n",
    "# %%time\n",
    "\n",
    "# z = cv.fit_transform(X['text'])\n",
    "\n",
    "# cv.vocabulary_"
   ]
  },
  {
   "cell_type": "code",
   "execution_count": 28,
   "metadata": {},
   "outputs": [],
   "source": [
    "cv = StratifiedKFold(n_splits=5, shuffle=True)"
   ]
  },
  {
   "cell_type": "markdown",
   "metadata": {},
   "source": [
    "## LogisticRegression"
   ]
  },
  {
   "cell_type": "code",
   "execution_count": 97,
   "metadata": {},
   "outputs": [],
   "source": [
    "pipe_lr = Pipeline([\n",
    "    ('cv', CountVectorizer()),\n",
    "    ('tfidf', TfidfTransformer(norm=None, smooth_idf=False)),\n",
    "    ('lr', LogisticRegression(class_weight='balanced', tol=1e-5))\n",
    "])"
   ]
  },
  {
   "cell_type": "code",
   "execution_count": 98,
   "metadata": {},
   "outputs": [],
   "source": [
    "param_grid_lr = {\n",
    "#     'lr__C': [0.01, 0.1, 1, 10, 100],\n",
    "    'lr__C': np.linspace(0.002, 0.003, 5),\n",
    "    'lr__penalty': ['l2', 'l1'],\n",
    "    'lr__solver': ['liblinear']\n",
    "}"
   ]
  },
  {
   "cell_type": "code",
   "execution_count": 99,
   "metadata": {},
   "outputs": [],
   "source": [
    "lr_grid = GridSearchCV(pipe_lr, param_grid=param_grid_lr, scoring='roc_auc', cv=cv, n_jobs=-1, verbose=30)"
   ]
  },
  {
   "cell_type": "code",
   "execution_count": 100,
   "metadata": {
    "scrolled": true
   },
   "outputs": [
    {
     "name": "stdout",
     "output_type": "stream",
     "text": [
      "Fitting 5 folds for each of 2 candidates, totalling 10 fits\n",
      "[CV] lr__penalty=l2, lr__solver=liblinear ............................\n",
      "[CV] lr__penalty=l2, lr__solver=liblinear ............................\n",
      "[CV] lr__penalty=l2, lr__solver=liblinear ............................\n",
      "[CV] lr__penalty=l2, lr__solver=liblinear ............................\n",
      "[CV] lr__penalty=l2, lr__solver=liblinear ............................\n",
      "[CV] lr__penalty=l1, lr__solver=liblinear ............................\n",
      "[CV] lr__penalty=l1, lr__solver=liblinear ............................\n",
      "[CV] lr__penalty=l1, lr__solver=liblinear ............................\n",
      "[CV]  lr__penalty=l2, lr__solver=liblinear, score=0.9904725068592326, total= 1.3min\n"
     ]
    },
    {
     "name": "stderr",
     "output_type": "stream",
     "text": [
      "[Parallel(n_jobs=-1)]: Done   1 tasks      | elapsed:  2.2min\n"
     ]
    },
    {
     "name": "stdout",
     "output_type": "stream",
     "text": [
      "[CV] lr__penalty=l1, lr__solver=liblinear ............................\n",
      "[CV]  lr__penalty=l2, lr__solver=liblinear, score=0.9908278450672655, total= 1.4min\n"
     ]
    },
    {
     "name": "stderr",
     "output_type": "stream",
     "text": [
      "[Parallel(n_jobs=-1)]: Done   2 out of  10 | elapsed:  2.3min remaining:  9.3min\n"
     ]
    },
    {
     "name": "stdout",
     "output_type": "stream",
     "text": [
      "[CV]  lr__penalty=l1, lr__solver=liblinear, score=0.982486367988637, total= 1.2min\n"
     ]
    },
    {
     "name": "stderr",
     "output_type": "stream",
     "text": [
      "[Parallel(n_jobs=-1)]: Done   3 out of  10 | elapsed:  2.4min remaining:  5.5min\n"
     ]
    },
    {
     "name": "stdout",
     "output_type": "stream",
     "text": [
      "[CV] lr__penalty=l1, lr__solver=liblinear ............................\n",
      "[CV]  lr__penalty=l1, lr__solver=liblinear, score=0.9833260544838484, total= 1.2min\n"
     ]
    },
    {
     "name": "stderr",
     "output_type": "stream",
     "text": [
      "[Parallel(n_jobs=-1)]: Done   4 out of  10 | elapsed:  2.5min remaining:  3.7min\n"
     ]
    },
    {
     "name": "stdout",
     "output_type": "stream",
     "text": [
      "[CV]  lr__penalty=l2, lr__solver=liblinear, score=0.9913886586026526, total= 1.6min\n"
     ]
    },
    {
     "name": "stderr",
     "output_type": "stream",
     "text": [
      "[Parallel(n_jobs=-1)]: Done   5 out of  10 | elapsed:  2.5min remaining:  2.5min\n"
     ]
    },
    {
     "name": "stdout",
     "output_type": "stream",
     "text": [
      "[CV]  lr__penalty=l1, lr__solver=liblinear, score=0.9842141909380746, total= 1.2min\n"
     ]
    },
    {
     "name": "stderr",
     "output_type": "stream",
     "text": [
      "[Parallel(n_jobs=-1)]: Done   6 out of  10 | elapsed:  2.6min remaining:  1.7min\n"
     ]
    },
    {
     "name": "stdout",
     "output_type": "stream",
     "text": [
      "[CV]  lr__penalty=l2, lr__solver=liblinear, score=0.9919544276584656, total= 1.6min\n"
     ]
    },
    {
     "name": "stderr",
     "output_type": "stream",
     "text": [
      "[Parallel(n_jobs=-1)]: Done   7 out of  10 | elapsed:  2.6min remaining:  1.1min\n"
     ]
    },
    {
     "name": "stdout",
     "output_type": "stream",
     "text": [
      "[CV]  lr__penalty=l2, lr__solver=liblinear, score=0.9908637374859391, total= 1.6min\n"
     ]
    },
    {
     "name": "stderr",
     "output_type": "stream",
     "text": [
      "[Parallel(n_jobs=-1)]: Done   8 out of  10 | elapsed:  2.6min remaining:   39.3s\n"
     ]
    },
    {
     "name": "stdout",
     "output_type": "stream",
     "text": [
      "[CV]  lr__penalty=l1, lr__solver=liblinear, score=0.9849134716051229, total=  39.7s\n",
      "[CV]  lr__penalty=l1, lr__solver=liblinear, score=0.9836803204793351, total=  35.7s\n"
     ]
    },
    {
     "name": "stderr",
     "output_type": "stream",
     "text": [
      "[Parallel(n_jobs=-1)]: Done  10 out of  10 | elapsed:  3.4min remaining:    0.0s\n",
      "[Parallel(n_jobs=-1)]: Done  10 out of  10 | elapsed:  3.4min finished\n"
     ]
    },
    {
     "name": "stdout",
     "output_type": "stream",
     "text": [
      "CPU times: user 52.6 s, sys: 10.2 s, total: 1min 2s\n",
      "Wall time: 4min 13s\n"
     ]
    },
    {
     "data": {
      "text/plain": [
       "GridSearchCV(cv=StratifiedKFold(n_splits=5, random_state=None, shuffle=True),\n",
       "       error_score='raise',\n",
       "       estimator=Pipeline(memory=None,\n",
       "     steps=[('cv', CountVectorizer(analyzer='word', binary=False, decode_error='strict',\n",
       "        dtype=<class 'numpy.int64'>, encoding='utf-8', input='content',\n",
       "        lowercase=True, max_df=1.0, max_features=None, min_df=1,\n",
       "        ngram_range=(1, 1), preprocessor=None, stop_words=None,\n",
       "        strip_a...lty='l2', random_state=None,\n",
       "          solver='liblinear', tol=1e-05, verbose=0, warm_start=False))]),\n",
       "       fit_params=None, iid=True, n_jobs=-1,\n",
       "       param_grid={'lr__penalty': ['l2', 'l1'], 'lr__solver': ['liblinear']},\n",
       "       pre_dispatch='2*n_jobs', refit=True, return_train_score='warn',\n",
       "       scoring='roc_auc', verbose=30)"
      ]
     },
     "execution_count": 100,
     "metadata": {},
     "output_type": "execute_result"
    }
   ],
   "source": [
    "%%time\n",
    "\n",
    "lr_grid.fit(X_train, y_train)"
   ]
  },
  {
   "cell_type": "code",
   "execution_count": 101,
   "metadata": {
    "scrolled": true
   },
   "outputs": [
    {
     "name": "stdout",
     "output_type": "stream",
     "text": [
      "---------- BEST PARAMS ----------\n",
      "{'lr__penalty': 'l2', 'lr__solver': 'liblinear'}\n",
      "---------- ROC_AUC SCORES ----------\n",
      "[0.99110143 0.98372408]\n",
      "---------- STD SCORES ----------\n",
      "[0.00051711 0.00081819]\n",
      "---------- MEAN OF ROC_AUC AND STD SCORES ----------\n",
      "0.9874127541538995 0.0036886790246584145\n",
      "---------- BEST USING ----------\n",
      "Best: 0.991101 using {'lr__penalty': 'l2', 'lr__solver': 'liblinear'}\n",
      "---------- CV RESULTS ----------\n",
      "{'mean_fit_time': array([78.36156368, 49.9887898 ]), 'std_fit_time': array([ 9.10936183, 14.85854341]), 'mean_score_time': array([12.15409956,  9.47857294]), 'std_score_time': array([2.03680191, 3.3923796 ]), 'param_lr__penalty': masked_array(data=['l2', 'l1'],\n",
      "             mask=[False, False],\n",
      "       fill_value='?',\n",
      "            dtype=object), 'param_lr__solver': masked_array(data=['liblinear', 'liblinear'],\n",
      "             mask=[False, False],\n",
      "       fill_value='?',\n",
      "            dtype=object), 'params': [{'lr__penalty': 'l2', 'lr__solver': 'liblinear'}, {'lr__penalty': 'l1', 'lr__solver': 'liblinear'}], 'split0_test_score': array([0.99047251, 0.98248637]), 'split1_test_score': array([0.99082785, 0.98332605]), 'split2_test_score': array([0.99138866, 0.98421419]), 'split3_test_score': array([0.99195443, 0.98491347]), 'split4_test_score': array([0.99086374, 0.98368032]), 'mean_test_score': array([0.99110143, 0.98372408]), 'std_test_score': array([0.00051711, 0.00081819]), 'rank_test_score': array([1, 2], dtype=int32), 'split0_train_score': array([0.99759791, 0.98429158]), 'split1_train_score': array([0.99753153, 0.98411741]), 'split2_train_score': array([0.99757006, 0.98393535]), 'split3_train_score': array([0.99746621, 0.9838246 ]), 'split4_train_score': array([0.99755178, 0.98401476]), 'mean_train_score': array([0.9975435 , 0.98403674]), 'std_train_score': array([4.43883363e-05, 1.59508750e-04])}\n"
     ]
    }
   ],
   "source": [
    "print_grid_info(lr_grid)"
   ]
  },
  {
   "cell_type": "code",
   "execution_count": 86,
   "metadata": {},
   "outputs": [],
   "source": [
    "estimator = lr_grid.best_estimator_"
   ]
  },
  {
   "cell_type": "code",
   "execution_count": 87,
   "metadata": {},
   "outputs": [],
   "source": [
    "y_hat = estimator.predict(X_test)"
   ]
  },
  {
   "cell_type": "code",
   "execution_count": 88,
   "metadata": {},
   "outputs": [],
   "source": [
    "prediction_to_csv(y_hat)"
   ]
  },
  {
   "cell_type": "code",
   "execution_count": 91,
   "metadata": {},
   "outputs": [
    {
     "data": {
      "text/plain": [
       "{'lr__C': 0.0022500000000000003, 'lr__solver': 'liblinear'}"
      ]
     },
     "execution_count": 91,
     "metadata": {},
     "output_type": "execute_result"
    }
   ],
   "source": []
  },
  {
   "cell_type": "markdown",
   "metadata": {},
   "source": [
    "## RandomForestClassifier"
   ]
  },
  {
   "cell_type": "code",
   "execution_count": 133,
   "metadata": {},
   "outputs": [],
   "source": [
    "pipe_rfc = Pipeline([\n",
    "    ('cv', CountVectorizer()),\n",
    "    ('tfidf', TfidfTransformer(norm=None, smooth_idf=False)),\n",
    "    ('rfc', RandomForestClassifier())\n",
    "])"
   ]
  },
  {
   "cell_type": "code",
   "execution_count": 134,
   "metadata": {},
   "outputs": [],
   "source": [
    "linspace = np.linspace(5, 50, 5, dtype=np.int)\n",
    "\n",
    "param_grid_rfc = {\n",
    "    'rfc__max_depth': np.append(linspace, None),\n",
    "    'rfc__n_estimators': [10, 100],\n",
    "    'rfc__criterion': ['gini', 'entropy']\n",
    "#     'rfc__bootstrap': [True, False]\n",
    "}"
   ]
  },
  {
   "cell_type": "code",
   "execution_count": 135,
   "metadata": {},
   "outputs": [],
   "source": [
    "rfc_grid = GridSearchCV(pipe_rfc, param_grid=param_grid_rfc, scoring='roc_auc', cv=cv, n_jobs=-1)"
   ]
  },
  {
   "cell_type": "code",
   "execution_count": null,
   "metadata": {},
   "outputs": [],
   "source": [
    "%%time\n",
    "\n",
    "rfc_grid.fit(X_train, y_train)"
   ]
  },
  {
   "cell_type": "code",
   "execution_count": null,
   "metadata": {},
   "outputs": [],
   "source": [
    "print_grid_info(rfc_grid)"
   ]
  },
  {
   "cell_type": "code",
   "execution_count": null,
   "metadata": {},
   "outputs": [],
   "source": [
    "%%time\n",
    "\n",
    "cvs = cross_val_score(pipe_rfc, X_train, y_train, cv=cv, n_jobs=-1)"
   ]
  },
  {
   "cell_type": "code",
   "execution_count": 121,
   "metadata": {},
   "outputs": [
    {
     "data": {
      "text/plain": [
       "array([0.9558261 , 0.95295   , 0.9523    , 0.954575  , 0.95337383])"
      ]
     },
     "execution_count": 121,
     "metadata": {},
     "output_type": "execute_result"
    }
   ],
   "source": [
    "cvs"
   ]
  },
  {
   "cell_type": "markdown",
   "metadata": {},
   "source": [
    "## MultinominalNB"
   ]
  },
  {
   "cell_type": "code",
   "execution_count": 32,
   "metadata": {},
   "outputs": [],
   "source": [
    "pipe_mnb = Pipeline([\n",
    "    ('cv', CountVectorizer()),\n",
    "    ('tfidf', TfidfTransformer(norm=None, smooth_idf=False)),\n",
    "    ('mnb', MultinomialNB())\n",
    "])"
   ]
  },
  {
   "cell_type": "code",
   "execution_count": 41,
   "metadata": {},
   "outputs": [],
   "source": [
    "param_grid_mnb = {\n",
    "    'mnb__alpha': [0.001, 1000]\n",
    "}"
   ]
  },
  {
   "cell_type": "code",
   "execution_count": 42,
   "metadata": {},
   "outputs": [],
   "source": [
    "mnb_grid = GridSearchCV(pipe_mnb, param_grid=param_grid_mnb, scoring='roc_auc', cv=cv, n_jobs=-1, verbose=30)"
   ]
  },
  {
   "cell_type": "code",
   "execution_count": 43,
   "metadata": {},
   "outputs": [
    {
     "name": "stdout",
     "output_type": "stream",
     "text": [
      "Fitting 5 folds for each of 2 candidates, totalling 10 fits\n",
      "[CV] mnb__alpha=0.001 ................................................\n",
      "[CV] mnb__alpha=0.001 ................................................\n",
      "[CV] mnb__alpha=0.001 ................................................\n",
      "[CV] mnb__alpha=0.001 ................................................\n",
      "[CV] mnb__alpha=0.001 ................................................\n",
      "[CV] mnb__alpha=1000 .................................................\n",
      "[CV] mnb__alpha=1000 .................................................\n",
      "[CV] mnb__alpha=1000 .................................................\n",
      "[CV] ....... mnb__alpha=0.001, score=0.9540611235584053, total=  39.2s\n"
     ]
    },
    {
     "name": "stderr",
     "output_type": "stream",
     "text": [
      "[Parallel(n_jobs=-1)]: Done   1 tasks      | elapsed:  1.4min\n"
     ]
    },
    {
     "name": "stdout",
     "output_type": "stream",
     "text": [
      "[CV] mnb__alpha=1000 .................................................\n",
      "[CV] ........ mnb__alpha=0.001, score=0.952329240328685, total=  41.9s\n"
     ]
    },
    {
     "name": "stderr",
     "output_type": "stream",
     "text": [
      "[Parallel(n_jobs=-1)]: Done   2 out of  10 | elapsed:  1.5min remaining:  6.1min\n"
     ]
    },
    {
     "name": "stdout",
     "output_type": "stream",
     "text": [
      "[CV] ....... mnb__alpha=0.001, score=0.9527873084030808, total=  44.0s\n"
     ]
    },
    {
     "name": "stderr",
     "output_type": "stream",
     "text": [
      "[Parallel(n_jobs=-1)]: Done   3 out of  10 | elapsed:  1.6min remaining:  3.8min\n"
     ]
    },
    {
     "name": "stdout",
     "output_type": "stream",
     "text": [
      "[CV] mnb__alpha=1000 .................................................\n",
      "[CV] ....... mnb__alpha=0.001, score=0.9536405214923596, total=  46.3s\n"
     ]
    },
    {
     "name": "stderr",
     "output_type": "stream",
     "text": [
      "[Parallel(n_jobs=-1)]: Done   4 out of  10 | elapsed:  1.7min remaining:  2.5min\n"
     ]
    },
    {
     "name": "stdout",
     "output_type": "stream",
     "text": [
      "[CV] ....... mnb__alpha=0.001, score=0.9545038226627829, total=  47.5s\n"
     ]
    },
    {
     "name": "stderr",
     "output_type": "stream",
     "text": [
      "[Parallel(n_jobs=-1)]: Done   5 out of  10 | elapsed:  1.8min remaining:  1.8min\n"
     ]
    },
    {
     "name": "stdout",
     "output_type": "stream",
     "text": [
      "[CV] ........ mnb__alpha=1000, score=0.9583594100952475, total=  49.4s\n"
     ]
    },
    {
     "name": "stderr",
     "output_type": "stream",
     "text": [
      "[Parallel(n_jobs=-1)]: Done   6 out of  10 | elapsed:  1.8min remaining:  1.2min\n"
     ]
    },
    {
     "name": "stdout",
     "output_type": "stream",
     "text": [
      "[CV] ........ mnb__alpha=1000, score=0.9573750835243052, total=  50.2s\n"
     ]
    },
    {
     "name": "stderr",
     "output_type": "stream",
     "text": [
      "[Parallel(n_jobs=-1)]: Done   7 out of  10 | elapsed:  1.9min remaining:   48.6s\n"
     ]
    },
    {
     "name": "stdout",
     "output_type": "stream",
     "text": [
      "[CV] ........ mnb__alpha=1000, score=0.9584505770596845, total=  50.4s\n"
     ]
    },
    {
     "name": "stderr",
     "output_type": "stream",
     "text": [
      "[Parallel(n_jobs=-1)]: Done   8 out of  10 | elapsed:  1.9min remaining:   28.9s\n"
     ]
    },
    {
     "name": "stdout",
     "output_type": "stream",
     "text": [
      "[CV] ........ mnb__alpha=1000, score=0.9597586135373657, total=  34.4s\n",
      "[CV] ........ mnb__alpha=1000, score=0.9592796757592891, total=  30.9s\n"
     ]
    },
    {
     "name": "stderr",
     "output_type": "stream",
     "text": [
      "[Parallel(n_jobs=-1)]: Done  10 out of  10 | elapsed:  2.5min remaining:    0.0s\n",
      "[Parallel(n_jobs=-1)]: Done  10 out of  10 | elapsed:  2.5min finished\n"
     ]
    },
    {
     "name": "stdout",
     "output_type": "stream",
     "text": [
      "CPU times: user 30.7 s, sys: 6.9 s, total: 37.6 s\n",
      "Wall time: 2min 56s\n"
     ]
    },
    {
     "data": {
      "text/plain": [
       "GridSearchCV(cv=StratifiedKFold(n_splits=5, random_state=None, shuffle=True),\n",
       "       error_score='raise',\n",
       "       estimator=Pipeline(memory=None,\n",
       "     steps=[('cv', CountVectorizer(analyzer='word', binary=False, decode_error='strict',\n",
       "        dtype=<class 'numpy.int64'>, encoding='utf-8', input='content',\n",
       "        lowercase=True, max_df=1.0, max_features=None, min_df=1,\n",
       "        ngram_range=(1, 1), preprocessor=None, stop_words=None,\n",
       "        strip_a...False,\n",
       "         use_idf=True)), ('mnb', MultinomialNB(alpha=1.0, class_prior=None, fit_prior=True))]),\n",
       "       fit_params=None, iid=True, n_jobs=-1,\n",
       "       param_grid={'mnb__alpha': [0.001, 1000]}, pre_dispatch='2*n_jobs',\n",
       "       refit=True, return_train_score='warn', scoring='roc_auc',\n",
       "       verbose=30)"
      ]
     },
     "execution_count": 43,
     "metadata": {},
     "output_type": "execute_result"
    }
   ],
   "source": [
    "%%time\n",
    "\n",
    "mnb_grid.fit(X_train, y_train)"
   ]
  },
  {
   "cell_type": "code",
   "execution_count": 44,
   "metadata": {},
   "outputs": [
    {
     "name": "stdout",
     "output_type": "stream",
     "text": [
      "---------- BEST PARAMS ----------\n",
      "{'mnb__alpha': 1000}\n",
      "---------- ROC_AUC SCORES ----------\n",
      "[0.9534644  0.95864467]\n",
      "---------- STD SCORES ----------\n",
      "[0.00080181 0.00082158]\n",
      "---------- MEAN OF ROC_AUC AND STD SCORES ----------\n",
      "0.9560545342347084 0.0025901331591415278\n",
      "---------- BEST USING ----------\n",
      "Best: 0.958645 using {'mnb__alpha': 1000}\n",
      "---------- CV RESULTS ----------\n",
      "{'mean_fit_time': array([33.57744107, 34.65010719]), 'std_fit_time': array([2.91857507, 6.32432709]), 'mean_score_time': array([10.22018523,  8.41764712]), 'std_score_time': array([0.12901067, 2.2704477 ]), 'param_mnb__alpha': masked_array(data=[0.001, 1000],\n",
      "             mask=[False, False],\n",
      "       fill_value='?',\n",
      "            dtype=object), 'params': [{'mnb__alpha': 0.001}, {'mnb__alpha': 1000}], 'split0_test_score': array([0.95406112, 0.95835941]), 'split1_test_score': array([0.95232924, 0.95737508]), 'split2_test_score': array([0.95278731, 0.95845058]), 'split3_test_score': array([0.95364052, 0.95975861]), 'split4_test_score': array([0.95450382, 0.95927968]), 'mean_test_score': array([0.9534644 , 0.95864467]), 'std_test_score': array([0.00080181, 0.00082158]), 'rank_test_score': array([2, 1], dtype=int32), 'split0_train_score': array([0.96770612, 0.95909678]), 'split1_train_score': array([0.96836875, 0.95943111]), 'split2_train_score': array([0.96786093, 0.95895828]), 'split3_train_score': array([0.96791265, 0.95912764]), 'split4_train_score': array([0.96784866, 0.9593065 ]), 'mean_train_score': array([0.96793942, 0.95918406]), 'std_train_score': array([0.00022533, 0.00016601])}\n"
     ]
    }
   ],
   "source": [
    "print_grid_info(mnb_grid)"
   ]
  },
  {
   "cell_type": "code",
   "execution_count": 30,
   "metadata": {},
   "outputs": [],
   "source": [
    "cvs = cross_val_score(pipe_mnb, X_train, y_train, cv=cv, n_jobs=-1)"
   ]
  },
  {
   "cell_type": "code",
   "execution_count": 31,
   "metadata": {},
   "outputs": [
    {
     "data": {
      "text/plain": [
       "array([0.93977651, 0.937725  , 0.93965   , 0.939275  , 0.93907348])"
      ]
     },
     "execution_count": 31,
     "metadata": {},
     "output_type": "execute_result"
    }
   ],
   "source": [
    "cvs"
   ]
  },
  {
   "cell_type": "code",
   "execution_count": null,
   "metadata": {},
   "outputs": [],
   "source": []
  },
  {
   "cell_type": "code",
   "execution_count": null,
   "metadata": {},
   "outputs": [],
   "source": []
  },
  {
   "cell_type": "code",
   "execution_count": null,
   "metadata": {},
   "outputs": [],
   "source": []
  },
  {
   "cell_type": "markdown",
   "metadata": {},
   "source": [
    "## Тесты (УДАЛИТЬ)"
   ]
  },
  {
   "cell_type": "code",
   "execution_count": null,
   "metadata": {},
   "outputs": [],
   "source": [
    "estimator = grid.best_estimator_\n",
    "\n",
    "print(estimator)"
   ]
  },
  {
   "cell_type": "code",
   "execution_count": null,
   "metadata": {},
   "outputs": [],
   "source": []
  },
  {
   "cell_type": "code",
   "execution_count": null,
   "metadata": {},
   "outputs": [],
   "source": [
    "# grid.get_params()"
   ]
  },
  {
   "cell_type": "code",
   "execution_count": null,
   "metadata": {},
   "outputs": [],
   "source": [
    "# grid.best_params_"
   ]
  },
  {
   "cell_type": "code",
   "execution_count": null,
   "metadata": {},
   "outputs": [],
   "source": []
  },
  {
   "cell_type": "code",
   "execution_count": null,
   "metadata": {},
   "outputs": [],
   "source": [
    "# %%time\n",
    "\n",
    "# cv = StratifiedKFold(n_splits=5, shuffle=True)\n",
    "# scores = cross_val_score(lr, X['text'], y, cv=cv, scoring=make_scorer(roc_auc_score))"
   ]
  },
  {
   "cell_type": "code",
   "execution_count": null,
   "metadata": {
    "scrolled": true
   },
   "outputs": [],
   "source": [
    "# scores.mean(), scores.std()"
   ]
  },
  {
   "cell_type": "code",
   "execution_count": null,
   "metadata": {},
   "outputs": [],
   "source": [
    "# scores"
   ]
  },
  {
   "cell_type": "code",
   "execution_count": null,
   "metadata": {},
   "outputs": [],
   "source": [
    "# %%time\n",
    "\n",
    "# cv = StratifiedKFold(n_splits=5, shuffle=True)\n",
    "# scores = cross_val_score(crf, X['text'], y, cv=cv, scoring=make_scorer(roc_auc_score))"
   ]
  },
  {
   "cell_type": "code",
   "execution_count": null,
   "metadata": {},
   "outputs": [],
   "source": [
    "# scores.mean(), scores.std()"
   ]
  },
  {
   "cell_type": "code",
   "execution_count": null,
   "metadata": {},
   "outputs": [],
   "source": [
    "!telegram-send \"Preprocessing completed!\""
   ]
  },
  {
   "cell_type": "code",
   "execution_count": 109,
   "metadata": {},
   "outputs": [
    {
     "name": "stdout",
     "output_type": "stream",
     "text": [
      "\u001b[0m"
     ]
    }
   ],
   "source": [
    "!telegram-send \"LogisticRegression fit completed!\""
   ]
  },
  {
   "cell_type": "code",
   "execution_count": null,
   "metadata": {},
   "outputs": [],
   "source": [
    "!telegram-send \"RandomForestClassifier fit completed!\""
   ]
  },
  {
   "cell_type": "markdown",
   "metadata": {},
   "source": []
  }
 ],
 "metadata": {
  "kernelspec": {
   "display_name": "Python 3",
   "language": "python",
   "name": "python3"
  },
  "language_info": {
   "codemirror_mode": {
    "name": "ipython",
    "version": 3
   },
   "file_extension": ".py",
   "mimetype": "text/x-python",
   "name": "python",
   "nbconvert_exporter": "python",
   "pygments_lexer": "ipython3",
   "version": "3.6.4"
  }
 },
 "nbformat": 4,
 "nbformat_minor": 2
}
