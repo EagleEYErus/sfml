{
 "cells": [
  {
   "cell_type": "markdown",
   "metadata": {
    "toc": "true"
   },
   "source": [
    "# Table of Contents\n",
    " <p><div class=\"lev1 toc-item\"><a href=\"#Skillfactory---Практический-Machine-Learning\" data-toc-modified-id=\"Skillfactory---Практический-Machine-Learning-1\"><span class=\"toc-item-num\">1&nbsp;&nbsp;</span>Skillfactory - Практический Machine Learning</a></div><div class=\"lev2 toc-item\"><a href=\"#12/03/2018---Введение-в-рекомендательные-системы\" data-toc-modified-id=\"12/03/2018---Введение-в-рекомендательные-системы-11\"><span class=\"toc-item-num\">1.1&nbsp;&nbsp;</span>12/03/2018 - Введение в рекомендательные системы</a></div><div class=\"lev1 toc-item\"><a href=\"#Мотивация\" data-toc-modified-id=\"Мотивация-2\"><span class=\"toc-item-num\">2&nbsp;&nbsp;</span>Мотивация</a></div><div class=\"lev3 toc-item\"><a href=\"#Netflix-Prize\" data-toc-modified-id=\"Netflix-Prize-201\"><span class=\"toc-item-num\">2.0.1&nbsp;&nbsp;</span>Netflix Prize</a></div><div class=\"lev3 toc-item\"><a href=\"#Источники-персональных-рекомендаций\" data-toc-modified-id=\"Источники-персональных-рекомендаций-202\"><span class=\"toc-item-num\">2.0.2&nbsp;&nbsp;</span>Источники персональных рекомендаций</a></div><div class=\"lev1 toc-item\"><a href=\"#Постановка-проблемы\" data-toc-modified-id=\"Постановка-проблемы-3\"><span class=\"toc-item-num\">3&nbsp;&nbsp;</span>Постановка проблемы</a></div><div class=\"lev3 toc-item\"><a href=\"#Нюансы\" data-toc-modified-id=\"Нюансы-301\"><span class=\"toc-item-num\">3.0.1&nbsp;&nbsp;</span>Нюансы</a></div><div class=\"lev2 toc-item\"><a href=\"#Подходы-к-решению\" data-toc-modified-id=\"Подходы-к-решению-31\"><span class=\"toc-item-num\">3.1&nbsp;&nbsp;</span>Подходы к решению</a></div><div class=\"lev1 toc-item\"><a href=\"#Коллаборативная-фильтрация\" data-toc-modified-id=\"Коллаборативная-фильтрация-4\"><span class=\"toc-item-num\">4&nbsp;&nbsp;</span>Коллаборативная фильтрация</a></div><div class=\"lev2 toc-item\"><a href=\"#User-based-CF\" data-toc-modified-id=\"User-based-CF-41\"><span class=\"toc-item-num\">4.1&nbsp;&nbsp;</span>User-based CF</a></div><div class=\"lev3 toc-item\"><a href=\"#Прогнозирование-рейтинга\" data-toc-modified-id=\"Прогнозирование-рейтинга-411\"><span class=\"toc-item-num\">4.1.1&nbsp;&nbsp;</span>Прогнозирование рейтинга</a></div><div class=\"lev3 toc-item\"><a href=\"#Как-определять-N(u)?\" data-toc-modified-id=\"Как-определять-N(u)?-412\"><span class=\"toc-item-num\">4.1.2&nbsp;&nbsp;</span>Как определять $N(u)$?</a></div><div class=\"lev3 toc-item\"><a href=\"#Как-определять-схожесть-пользователей\" data-toc-modified-id=\"Как-определять-схожесть-пользователей-413\"><span class=\"toc-item-num\">4.1.3&nbsp;&nbsp;</span>Как определять схожесть пользователей</a></div><div class=\"lev3 toc-item\"><a href=\"#Пример\" data-toc-modified-id=\"Пример-414\"><span class=\"toc-item-num\">4.1.4&nbsp;&nbsp;</span>Пример</a></div><div class=\"lev2 toc-item\"><a href=\"#Item-based-CF\" data-toc-modified-id=\"Item-based-CF-42\"><span class=\"toc-item-num\">4.2&nbsp;&nbsp;</span>Item-based CF</a></div><div class=\"lev3 toc-item\"><a href=\"#Прогнозирование-рейтинга\" data-toc-modified-id=\"Прогнозирование-рейтинга-421\"><span class=\"toc-item-num\">4.2.1&nbsp;&nbsp;</span>Прогнозирование рейтинга</a></div><div class=\"lev3 toc-item\"><a href=\"#Схожесть-товаров\" data-toc-modified-id=\"Схожесть-товаров-422\"><span class=\"toc-item-num\">4.2.2&nbsp;&nbsp;</span>Схожесть товаров</a></div><div class=\"lev2 toc-item\"><a href=\"#Демо-CF\" data-toc-modified-id=\"Демо-CF-43\"><span class=\"toc-item-num\">4.3&nbsp;&nbsp;</span>Демо CF</a></div><div class=\"lev1 toc-item\"><a href=\"#Модели-со-скрытыми-факторами\" data-toc-modified-id=\"Модели-со-скрытыми-факторами-5\"><span class=\"toc-item-num\">5&nbsp;&nbsp;</span>Модели со скрытыми факторами</a></div><div class=\"lev2 toc-item\"><a href=\"#Non-negative-Matrix-Factorization\" data-toc-modified-id=\"Non-negative-Matrix-Factorization-51\"><span class=\"toc-item-num\">5.1&nbsp;&nbsp;</span>Non-negative Matrix Factorization</a></div><div class=\"lev2 toc-item\"><a href=\"#SVD-разложение\" data-toc-modified-id=\"SVD-разложение-52\"><span class=\"toc-item-num\">5.2&nbsp;&nbsp;</span>SVD разложение</a></div><div class=\"lev2 toc-item\"><a href=\"#Non-negative-Matrix-Factorization\" data-toc-modified-id=\"Non-negative-Matrix-Factorization-53\"><span class=\"toc-item-num\">5.3&nbsp;&nbsp;</span>Non-negative Matrix Factorization</a></div><div class=\"lev2 toc-item\"><a href=\"#Latent-Factor-Model\" data-toc-modified-id=\"Latent-Factor-Model-54\"><span class=\"toc-item-num\">5.4&nbsp;&nbsp;</span>Latent Factor Model</a></div><div class=\"lev2 toc-item\"><a href=\"#Демо-SVD\" data-toc-modified-id=\"Демо-SVD-55\"><span class=\"toc-item-num\">5.5&nbsp;&nbsp;</span>Демо SVD</a></div><div class=\"lev3 toc-item\"><a href=\"#Перекодируем-ID-фильмов-и-пользователей\" data-toc-modified-id=\"Перекодируем-ID-фильмов-и-пользователей-551\"><span class=\"toc-item-num\">5.5.1&nbsp;&nbsp;</span>Перекодируем ID фильмов и пользователей</a></div><div class=\"lev3 toc-item\"><a href=\"#В-явном-виде-запишем-матрицу-рейтингов\" data-toc-modified-id=\"В-явном-виде-запишем-матрицу-рейтингов-552\"><span class=\"toc-item-num\">5.5.2&nbsp;&nbsp;</span>В явном виде запишем матрицу рейтингов</a></div><div class=\"lev1 toc-item\"><a href=\"#Оценка-качества\" data-toc-modified-id=\"Оценка-качества-6\"><span class=\"toc-item-num\">6&nbsp;&nbsp;</span>Оценка качества</a></div>"
   ]
  },
  {
   "cell_type": "markdown",
   "metadata": {},
   "source": [
    "# Skillfactory - Практический Machine Learning\n",
    "## 12/03/2018 - Введение в рекомендательные системы\n",
    "\n",
    "<center> Шестаков Андрей </center>"
   ]
  },
  {
   "cell_type": "code",
   "execution_count": 1,
   "metadata": {
    "collapsed": true
   },
   "outputs": [],
   "source": [
    "import pandas as pd\n",
    "import numpy as np\n",
    "import matplotlib.pyplot as plt\n",
    "\n",
    "\n",
    "%matplotlib inline\n",
    "\n",
    "plt.style.use('ggplot')\n",
    "plt.rcParams['figure.figsize'] = (12, 8)"
   ]
  },
  {
   "cell_type": "code",
   "execution_count": 2,
   "metadata": {
    "collapsed": true
   },
   "outputs": [],
   "source": [
    "import warnings\n",
    "warnings.filterwarnings('ignore')\n",
    "\n",
    "from ipywidgets import interact, IntSlider, fixed, FloatSlider"
   ]
  },
  {
   "cell_type": "markdown",
   "metadata": {},
   "source": [
    "# Мотивация"
   ]
  },
  {
   "cell_type": "markdown",
   "metadata": {},
   "source": [
    "* Люди - потребители контента и услуг\n",
    "    * Музыка\n",
    "    * Фильмы\n",
    "    * Книги\n",
    "    * Игры\n",
    "    * Еда\n",
    "    * ...\n",
    "\n",
    "\n",
    "* Но выбор слишком велик..\n",
    "    * Spotify - 30 млн. песен\n",
    "    * Netflix - 20 тыс. фильмов\n",
    "    * Amazon - 500 тыс. книг\n",
    "    * Steam - 20 тыс. игр"
   ]
  },
  {
   "cell_type": "markdown",
   "metadata": {},
   "source": [
    "Надо как-то фильтровать..\n",
    "* Можно спросить у друзей (вкусы могут отличаться)\n",
    "* Можно почитать обзоры (много времени)\n",
    "* Автоматическая рекомендательная система!\n",
    "\n",
    "<center><img src=\"img/recsys.jpg\" width=400></center>\n",
    "\n"
   ]
  },
  {
   "cell_type": "markdown",
   "metadata": {},
   "source": [
    "### Netflix Prize\n",
    "<center><img src=\"img/netflix.jpg\" width=500></center>"
   ]
  },
  {
   "cell_type": "markdown",
   "metadata": {},
   "source": [
    "### Источники персональных рекомендаций\n",
    "* На основе предпочтений пользователя\n",
    "    * Рассчитывается некоторый \"профиль\" пользователя, для которого определяются наиболее подходящие товары\n",
    "* На основе похожих пользователей\n",
    "    * Находим других пользователей с похожими интересами и доставляем рекомендацию\n",
    "* На основе похожих товоров\n",
    "    * Рекомендуем товары, похожие на те, что мне нравятся"
   ]
  },
  {
   "cell_type": "markdown",
   "metadata": {
    "slideshow": {
     "slide_type": "slide"
    }
   },
   "source": [
    "# Постановка проблемы"
   ]
  },
  {
   "cell_type": "markdown",
   "metadata": {
    "slideshow": {
     "slide_type": "subslide"
    }
   },
   "source": [
    "* Пользователи ставят оценку товарам\n",
    "    * Бинарную\n",
    "    * Количество \"звезд\"\n",
    "    * Неявную (кол-во потраченого времени\\денег)\n",
    "<center><img src=\"img/rating.png\" width=600></center>\n",
    "* Надо заполнить пропуски\n",
    "* Предоставить рекомендацию\n",
    "\n"
   ]
  },
  {
   "cell_type": "markdown",
   "metadata": {},
   "source": [
    "### Нюансы\n",
    "* Хорошее восстановление рейтингов $\\neq$ хорошая рекомендательная система\n",
    "* Учет экономических предпочтений продавцов\n",
    "* Learning Loop\n",
    "* Холодный старт\n",
    "* Возникает для новых товаров и пользователей\n",
    "* Масштабируемость\n",
    "* Накручивание рейтингов\n",
    "* Неактивные пользователи\n",
    "* Тривиальные рекомендации"
   ]
  },
  {
   "cell_type": "markdown",
   "metadata": {},
   "source": [
    "<center><img src=\"img/hp-rec.png\" width=600></center>"
   ]
  },
  {
   "cell_type": "markdown",
   "metadata": {},
   "source": [
    "## Подходы к решению\n",
    "* Коллаборативная фильтрация\n",
    "* Латентные методы (матричные разложения)"
   ]
  },
  {
   "cell_type": "markdown",
   "metadata": {},
   "source": [
    "# Коллаборативная фильтрация"
   ]
  },
  {
   "cell_type": "markdown",
   "metadata": {},
   "source": [
    "* User-based\n",
    "* Item-based"
   ]
  },
  {
   "cell_type": "markdown",
   "metadata": {},
   "source": [
    "## User-based CF\n",
    "<center><img src=\"img/ub-collab.png\" width=700></center>"
   ]
  },
  {
   "cell_type": "markdown",
   "metadata": {},
   "source": [
    "Введем обозначения:\n",
    "* $U$ - множество пользователей\n",
    "* $I$ - множество товаров\n",
    "* $U_i$ - множество пользователей, оценивших товар $i$\n",
    "* $I_u$ - множество товаров, оценненных пользователем $u$\n",
    "* $R_{ui}$ - оценка, которую дал пользователь $u$ товару $i$\n",
    "* $\\hat{R}_{ui}$ - прогноз оценки\n",
    "\n"
   ]
  },
  {
   "cell_type": "markdown",
   "metadata": {
    "slideshow": {
     "slide_type": "subslide"
    }
   },
   "source": [
    "### Прогнозирование рейтинга\n",
    "* Посчитаем сходство между пользователями $s \\in \\mathbb{R}^{U \\times U}$\n",
    "* Для целевого пользователя $u$ найти похожих пользователей $N(u)$\n",
    "$$ \\hat{R}_{ui} = \\bar{R}_u + \\frac{\\sum_{v \\in N(u)} s_{uv}(R_{vi} - \\bar{R}_v)}{\\sum_{v \\in N(u)} \\left| s_{uv}\\right|} $$\n",
    "\n",
    "* $\\bar{R}_u$ - поправка на писсимизм\\оптимизм пользователей"
   ]
  },
  {
   "cell_type": "markdown",
   "metadata": {
    "slideshow": {
     "slide_type": "subslide"
    }
   },
   "source": [
    "### Как определять $N(u)$?\n",
    "* $N(u)$ можно определять по разным соображениям:\n",
    "    * Брать всех\n",
    "    * Top-k\n",
    "    * $s_{uv} > \\theta$"
   ]
  },
  {
   "cell_type": "markdown",
   "metadata": {
    "slideshow": {
     "slide_type": "subslide"
    }
   },
   "source": [
    "### Как определять схожесть пользователей\n",
    "\n",
    "* Для каждой пары $(u,v)$ надо пересечь множество оцененных товаров\n",
    "\n",
    "* Корреляция пирсона\n",
    "$$ s_{uv} = \\frac{\\sum\\limits_{i \\in I_u\\cap I_v} (R_{ui} - \\bar{R}_u)(R_{vi} - \\bar{R}_v)}{\\sqrt{\\sum\\limits_{i \\in I_u\\cap I_v}(R_{ui} - \\bar{R}_u)^2}\\sqrt{\\sum\\limits_{i \\in I_u\\cap I_v}(R_{vi} - \\bar{R}_v)^2}}$$\n",
    "* Корреляция Спирмана\n",
    "* Косинусная мера\n",
    "$$ s_{uv} = \\frac{\\sum\\limits_{i \\in I_u\\cap I_v} R_{ui} R_{vi}}{\\sqrt{{\\sum\\limits_{i \\in I_u\\cap I_v}R_{ui}^2}}\\sqrt{{\\sum\\limits_{i \\in I_u\\cap I_v}R_{vi}^2}}}$$\n"
   ]
  },
  {
   "cell_type": "markdown",
   "metadata": {},
   "source": [
    "### Пример\n",
    "\n",
    "<img src='img/example1.png'>"
   ]
  },
  {
   "cell_type": "markdown",
   "metadata": {},
   "source": [
    "<img src='img/example2.png'>"
   ]
  },
  {
   "cell_type": "markdown",
   "metadata": {
    "slideshow": {
     "slide_type": "slide"
    }
   },
   "source": [
    "## Item-based CF"
   ]
  },
  {
   "cell_type": "markdown",
   "metadata": {
    "slideshow": {
     "slide_type": "subslide"
    }
   },
   "source": [
    "<center><img src='http://dataconomy.com/wp-content/uploads/2015/03/Beginners-Guide-Recommender-Systems-Content-Based-Filtering.png' width=350></center>"
   ]
  },
  {
   "cell_type": "markdown",
   "metadata": {
    "slideshow": {
     "slide_type": "subslide"
    }
   },
   "source": [
    "### Прогнозирование рейтинга\n",
    "* Посчитаем сходство между товарами $s \\in \\mathbb{R}^{I \\times I}$\n",
    "* Для товара $i$ найти оцененные пользователем $u$ похожие товары: $N(i)$\n",
    "\n",
    "$$ \\hat{R}_{ui} = \\frac{\\sum_{j \\in N(i)} s_{ij}R_{uj}}{\\sum_{j \\in N(i)} \\left| s_{ij}\\right|} $$"
   ]
  },
  {
   "cell_type": "markdown",
   "metadata": {
    "slideshow": {
     "slide_type": "subslide"
    }
   },
   "source": [
    "### Схожесть товаров\n",
    "\n",
    "* Условная вероятность\n",
    "$$ s_{ij} = \\frac{n_{ij}}{n_i} $$\n",
    "* Зависимость\n",
    "$$ s_{ij} = \\frac{n_{ij}}{n_i n_j} $$"
   ]
  },
  {
   "cell_type": "markdown",
   "metadata": {},
   "source": [
    "Попробуем что-то сделать с модулем [surprice](http://surprise.readthedocs.io/en/stable/index.html)"
   ]
  },
  {
   "cell_type": "markdown",
   "metadata": {},
   "source": [
    "## Демо CF"
   ]
  },
  {
   "cell_type": "code",
   "execution_count": 19,
   "metadata": {
    "collapsed": true
   },
   "outputs": [],
   "source": [
    "filepath = './data/user_ratedmovies.dat'\n",
    "df_rates = pd.read_csv(filepath, sep='\\t')\n",
    "\n",
    "filepath = './data/movies.dat'\n",
    "df_movies = pd.read_csv(filepath, sep='\\t', encoding='iso-8859-1')"
   ]
  },
  {
   "cell_type": "code",
   "execution_count": 20,
   "metadata": {
    "scrolled": true
   },
   "outputs": [
    {
     "data": {
      "text/html": [
       "<div>\n",
       "<style>\n",
       "    .dataframe thead tr:only-child th {\n",
       "        text-align: right;\n",
       "    }\n",
       "\n",
       "    .dataframe thead th {\n",
       "        text-align: left;\n",
       "    }\n",
       "\n",
       "    .dataframe tbody tr th {\n",
       "        vertical-align: top;\n",
       "    }\n",
       "</style>\n",
       "<table border=\"1\" class=\"dataframe\">\n",
       "  <thead>\n",
       "    <tr style=\"text-align: right;\">\n",
       "      <th></th>\n",
       "      <th>id</th>\n",
       "      <th>title</th>\n",
       "      <th>imdbID</th>\n",
       "      <th>spanishTitle</th>\n",
       "      <th>imdbPictureURL</th>\n",
       "      <th>year</th>\n",
       "      <th>rtID</th>\n",
       "      <th>rtAllCriticsRating</th>\n",
       "      <th>rtAllCriticsNumReviews</th>\n",
       "      <th>rtAllCriticsNumFresh</th>\n",
       "      <th>...</th>\n",
       "      <th>rtAllCriticsScore</th>\n",
       "      <th>rtTopCriticsRating</th>\n",
       "      <th>rtTopCriticsNumReviews</th>\n",
       "      <th>rtTopCriticsNumFresh</th>\n",
       "      <th>rtTopCriticsNumRotten</th>\n",
       "      <th>rtTopCriticsScore</th>\n",
       "      <th>rtAudienceRating</th>\n",
       "      <th>rtAudienceNumRatings</th>\n",
       "      <th>rtAudienceScore</th>\n",
       "      <th>rtPictureURL</th>\n",
       "    </tr>\n",
       "  </thead>\n",
       "  <tbody>\n",
       "    <tr>\n",
       "      <th>0</th>\n",
       "      <td>1</td>\n",
       "      <td>Toy story</td>\n",
       "      <td>114709</td>\n",
       "      <td>Toy story (juguetes)</td>\n",
       "      <td>http://ia.media-imdb.com/images/M/MV5BMTMwNDU0...</td>\n",
       "      <td>1995</td>\n",
       "      <td>toy_story</td>\n",
       "      <td>9</td>\n",
       "      <td>73</td>\n",
       "      <td>73</td>\n",
       "      <td>...</td>\n",
       "      <td>100</td>\n",
       "      <td>8.5</td>\n",
       "      <td>17</td>\n",
       "      <td>17</td>\n",
       "      <td>0</td>\n",
       "      <td>100</td>\n",
       "      <td>3.7</td>\n",
       "      <td>102338</td>\n",
       "      <td>81</td>\n",
       "      <td>http://content7.flixster.com/movie/10/93/63/10...</td>\n",
       "    </tr>\n",
       "    <tr>\n",
       "      <th>1</th>\n",
       "      <td>2</td>\n",
       "      <td>Jumanji</td>\n",
       "      <td>113497</td>\n",
       "      <td>Jumanji</td>\n",
       "      <td>http://ia.media-imdb.com/images/M/MV5BMzM5NjE1...</td>\n",
       "      <td>1995</td>\n",
       "      <td>1068044-jumanji</td>\n",
       "      <td>5.6</td>\n",
       "      <td>28</td>\n",
       "      <td>13</td>\n",
       "      <td>...</td>\n",
       "      <td>46</td>\n",
       "      <td>5.8</td>\n",
       "      <td>5</td>\n",
       "      <td>2</td>\n",
       "      <td>3</td>\n",
       "      <td>40</td>\n",
       "      <td>3.2</td>\n",
       "      <td>44587</td>\n",
       "      <td>61</td>\n",
       "      <td>http://content8.flixster.com/movie/56/79/73/56...</td>\n",
       "    </tr>\n",
       "    <tr>\n",
       "      <th>2</th>\n",
       "      <td>3</td>\n",
       "      <td>Grumpy Old Men</td>\n",
       "      <td>107050</td>\n",
       "      <td>Dos viejos gruñones</td>\n",
       "      <td>http://ia.media-imdb.com/images/M/MV5BMTI5MTgy...</td>\n",
       "      <td>1993</td>\n",
       "      <td>grumpy_old_men</td>\n",
       "      <td>5.9</td>\n",
       "      <td>36</td>\n",
       "      <td>24</td>\n",
       "      <td>...</td>\n",
       "      <td>66</td>\n",
       "      <td>7</td>\n",
       "      <td>6</td>\n",
       "      <td>5</td>\n",
       "      <td>1</td>\n",
       "      <td>83</td>\n",
       "      <td>3.2</td>\n",
       "      <td>10489</td>\n",
       "      <td>66</td>\n",
       "      <td>http://content6.flixster.com/movie/25/60/25602...</td>\n",
       "    </tr>\n",
       "    <tr>\n",
       "      <th>3</th>\n",
       "      <td>4</td>\n",
       "      <td>Waiting to Exhale</td>\n",
       "      <td>114885</td>\n",
       "      <td>Esperando un respiro</td>\n",
       "      <td>http://ia.media-imdb.com/images/M/MV5BMTczMTMy...</td>\n",
       "      <td>1995</td>\n",
       "      <td>waiting_to_exhale</td>\n",
       "      <td>5.6</td>\n",
       "      <td>25</td>\n",
       "      <td>14</td>\n",
       "      <td>...</td>\n",
       "      <td>56</td>\n",
       "      <td>5.5</td>\n",
       "      <td>11</td>\n",
       "      <td>5</td>\n",
       "      <td>6</td>\n",
       "      <td>45</td>\n",
       "      <td>3.3</td>\n",
       "      <td>5666</td>\n",
       "      <td>79</td>\n",
       "      <td>http://content9.flixster.com/movie/10/94/17/10...</td>\n",
       "    </tr>\n",
       "    <tr>\n",
       "      <th>4</th>\n",
       "      <td>5</td>\n",
       "      <td>Father of the Bride Part II</td>\n",
       "      <td>113041</td>\n",
       "      <td>Vuelve el padre de la novia (Ahora también abu...</td>\n",
       "      <td>http://ia.media-imdb.com/images/M/MV5BMTg1NDc2...</td>\n",
       "      <td>1995</td>\n",
       "      <td>father_of_the_bride_part_ii</td>\n",
       "      <td>5.3</td>\n",
       "      <td>19</td>\n",
       "      <td>9</td>\n",
       "      <td>...</td>\n",
       "      <td>47</td>\n",
       "      <td>5.4</td>\n",
       "      <td>5</td>\n",
       "      <td>1</td>\n",
       "      <td>4</td>\n",
       "      <td>20</td>\n",
       "      <td>3</td>\n",
       "      <td>13761</td>\n",
       "      <td>64</td>\n",
       "      <td>http://content8.flixster.com/movie/25/54/25542...</td>\n",
       "    </tr>\n",
       "  </tbody>\n",
       "</table>\n",
       "<p>5 rows × 21 columns</p>\n",
       "</div>"
      ],
      "text/plain": [
       "   id                        title  imdbID  \\\n",
       "0   1                    Toy story  114709   \n",
       "1   2                      Jumanji  113497   \n",
       "2   3               Grumpy Old Men  107050   \n",
       "3   4            Waiting to Exhale  114885   \n",
       "4   5  Father of the Bride Part II  113041   \n",
       "\n",
       "                                        spanishTitle  \\\n",
       "0                               Toy story (juguetes)   \n",
       "1                                            Jumanji   \n",
       "2                                Dos viejos gruñones   \n",
       "3                               Esperando un respiro   \n",
       "4  Vuelve el padre de la novia (Ahora también abu...   \n",
       "\n",
       "                                      imdbPictureURL  year  \\\n",
       "0  http://ia.media-imdb.com/images/M/MV5BMTMwNDU0...  1995   \n",
       "1  http://ia.media-imdb.com/images/M/MV5BMzM5NjE1...  1995   \n",
       "2  http://ia.media-imdb.com/images/M/MV5BMTI5MTgy...  1993   \n",
       "3  http://ia.media-imdb.com/images/M/MV5BMTczMTMy...  1995   \n",
       "4  http://ia.media-imdb.com/images/M/MV5BMTg1NDc2...  1995   \n",
       "\n",
       "                          rtID rtAllCriticsRating rtAllCriticsNumReviews  \\\n",
       "0                    toy_story                  9                     73   \n",
       "1              1068044-jumanji                5.6                     28   \n",
       "2               grumpy_old_men                5.9                     36   \n",
       "3            waiting_to_exhale                5.6                     25   \n",
       "4  father_of_the_bride_part_ii                5.3                     19   \n",
       "\n",
       "  rtAllCriticsNumFresh                        ...                          \\\n",
       "0                   73                        ...                           \n",
       "1                   13                        ...                           \n",
       "2                   24                        ...                           \n",
       "3                   14                        ...                           \n",
       "4                    9                        ...                           \n",
       "\n",
       "  rtAllCriticsScore rtTopCriticsRating rtTopCriticsNumReviews  \\\n",
       "0               100                8.5                     17   \n",
       "1                46                5.8                      5   \n",
       "2                66                  7                      6   \n",
       "3                56                5.5                     11   \n",
       "4                47                5.4                      5   \n",
       "\n",
       "  rtTopCriticsNumFresh rtTopCriticsNumRotten rtTopCriticsScore  \\\n",
       "0                   17                     0               100   \n",
       "1                    2                     3                40   \n",
       "2                    5                     1                83   \n",
       "3                    5                     6                45   \n",
       "4                    1                     4                20   \n",
       "\n",
       "  rtAudienceRating rtAudienceNumRatings rtAudienceScore  \\\n",
       "0              3.7               102338              81   \n",
       "1              3.2                44587              61   \n",
       "2              3.2                10489              66   \n",
       "3              3.3                 5666              79   \n",
       "4                3                13761              64   \n",
       "\n",
       "                                        rtPictureURL  \n",
       "0  http://content7.flixster.com/movie/10/93/63/10...  \n",
       "1  http://content8.flixster.com/movie/56/79/73/56...  \n",
       "2  http://content6.flixster.com/movie/25/60/25602...  \n",
       "3  http://content9.flixster.com/movie/10/94/17/10...  \n",
       "4  http://content8.flixster.com/movie/25/54/25542...  \n",
       "\n",
       "[5 rows x 21 columns]"
      ]
     },
     "execution_count": 20,
     "metadata": {},
     "output_type": "execute_result"
    }
   ],
   "source": [
    "df_movies.head()"
   ]
  },
  {
   "cell_type": "code",
   "execution_count": 21,
   "metadata": {},
   "outputs": [
    {
     "data": {
      "text/html": [
       "<div>\n",
       "<style>\n",
       "    .dataframe thead tr:only-child th {\n",
       "        text-align: right;\n",
       "    }\n",
       "\n",
       "    .dataframe thead th {\n",
       "        text-align: left;\n",
       "    }\n",
       "\n",
       "    .dataframe tbody tr th {\n",
       "        vertical-align: top;\n",
       "    }\n",
       "</style>\n",
       "<table border=\"1\" class=\"dataframe\">\n",
       "  <thead>\n",
       "    <tr style=\"text-align: right;\">\n",
       "      <th></th>\n",
       "      <th>userID</th>\n",
       "      <th>movieID</th>\n",
       "      <th>rating</th>\n",
       "      <th>date_day</th>\n",
       "      <th>date_month</th>\n",
       "      <th>date_year</th>\n",
       "      <th>date_hour</th>\n",
       "      <th>date_minute</th>\n",
       "      <th>date_second</th>\n",
       "    </tr>\n",
       "  </thead>\n",
       "  <tbody>\n",
       "    <tr>\n",
       "      <th>0</th>\n",
       "      <td>75</td>\n",
       "      <td>3</td>\n",
       "      <td>1.0</td>\n",
       "      <td>29</td>\n",
       "      <td>10</td>\n",
       "      <td>2006</td>\n",
       "      <td>23</td>\n",
       "      <td>17</td>\n",
       "      <td>16</td>\n",
       "    </tr>\n",
       "    <tr>\n",
       "      <th>1</th>\n",
       "      <td>75</td>\n",
       "      <td>32</td>\n",
       "      <td>4.5</td>\n",
       "      <td>29</td>\n",
       "      <td>10</td>\n",
       "      <td>2006</td>\n",
       "      <td>23</td>\n",
       "      <td>23</td>\n",
       "      <td>44</td>\n",
       "    </tr>\n",
       "    <tr>\n",
       "      <th>2</th>\n",
       "      <td>75</td>\n",
       "      <td>110</td>\n",
       "      <td>4.0</td>\n",
       "      <td>29</td>\n",
       "      <td>10</td>\n",
       "      <td>2006</td>\n",
       "      <td>23</td>\n",
       "      <td>30</td>\n",
       "      <td>8</td>\n",
       "    </tr>\n",
       "    <tr>\n",
       "      <th>3</th>\n",
       "      <td>75</td>\n",
       "      <td>160</td>\n",
       "      <td>2.0</td>\n",
       "      <td>29</td>\n",
       "      <td>10</td>\n",
       "      <td>2006</td>\n",
       "      <td>23</td>\n",
       "      <td>16</td>\n",
       "      <td>52</td>\n",
       "    </tr>\n",
       "    <tr>\n",
       "      <th>4</th>\n",
       "      <td>75</td>\n",
       "      <td>163</td>\n",
       "      <td>4.0</td>\n",
       "      <td>29</td>\n",
       "      <td>10</td>\n",
       "      <td>2006</td>\n",
       "      <td>23</td>\n",
       "      <td>29</td>\n",
       "      <td>30</td>\n",
       "    </tr>\n",
       "  </tbody>\n",
       "</table>\n",
       "</div>"
      ],
      "text/plain": [
       "   userID  movieID  rating  date_day  date_month  date_year  date_hour  \\\n",
       "0      75        3     1.0        29          10       2006         23   \n",
       "1      75       32     4.5        29          10       2006         23   \n",
       "2      75      110     4.0        29          10       2006         23   \n",
       "3      75      160     2.0        29          10       2006         23   \n",
       "4      75      163     4.0        29          10       2006         23   \n",
       "\n",
       "   date_minute  date_second  \n",
       "0           17           16  \n",
       "1           23           44  \n",
       "2           30            8  \n",
       "3           16           52  \n",
       "4           29           30  "
      ]
     },
     "execution_count": 21,
     "metadata": {},
     "output_type": "execute_result"
    }
   ],
   "source": [
    "df_rates.head()"
   ]
  },
  {
   "cell_type": "code",
   "execution_count": 22,
   "metadata": {
    "collapsed": true
   },
   "outputs": [],
   "source": [
    "df_movies.loc[:, 'id'] = df_movies.loc[:, 'id'].astype('str')\n",
    "df_movies = df_movies.set_index('id')"
   ]
  },
  {
   "cell_type": "code",
   "execution_count": 26,
   "metadata": {},
   "outputs": [],
   "source": [
    "df_rates.columns = [u'userID', u'movieID', u'rating', u'day', u'month',\n",
    "                    u'year', u'hour', u'minute', u'second']"
   ]
  },
  {
   "cell_type": "code",
   "execution_count": 27,
   "metadata": {},
   "outputs": [
    {
     "data": {
      "text/html": [
       "<div>\n",
       "<style>\n",
       "    .dataframe thead tr:only-child th {\n",
       "        text-align: right;\n",
       "    }\n",
       "\n",
       "    .dataframe thead th {\n",
       "        text-align: left;\n",
       "    }\n",
       "\n",
       "    .dataframe tbody tr th {\n",
       "        vertical-align: top;\n",
       "    }\n",
       "</style>\n",
       "<table border=\"1\" class=\"dataframe\">\n",
       "  <thead>\n",
       "    <tr style=\"text-align: right;\">\n",
       "      <th></th>\n",
       "      <th>userID</th>\n",
       "      <th>movieID</th>\n",
       "      <th>rating</th>\n",
       "      <th>day</th>\n",
       "      <th>month</th>\n",
       "      <th>year</th>\n",
       "      <th>hour</th>\n",
       "      <th>minute</th>\n",
       "      <th>second</th>\n",
       "    </tr>\n",
       "  </thead>\n",
       "  <tbody>\n",
       "    <tr>\n",
       "      <th>0</th>\n",
       "      <td>75</td>\n",
       "      <td>3</td>\n",
       "      <td>1.0</td>\n",
       "      <td>29</td>\n",
       "      <td>10</td>\n",
       "      <td>2006</td>\n",
       "      <td>23</td>\n",
       "      <td>17</td>\n",
       "      <td>16</td>\n",
       "    </tr>\n",
       "    <tr>\n",
       "      <th>1</th>\n",
       "      <td>75</td>\n",
       "      <td>32</td>\n",
       "      <td>4.5</td>\n",
       "      <td>29</td>\n",
       "      <td>10</td>\n",
       "      <td>2006</td>\n",
       "      <td>23</td>\n",
       "      <td>23</td>\n",
       "      <td>44</td>\n",
       "    </tr>\n",
       "    <tr>\n",
       "      <th>2</th>\n",
       "      <td>75</td>\n",
       "      <td>110</td>\n",
       "      <td>4.0</td>\n",
       "      <td>29</td>\n",
       "      <td>10</td>\n",
       "      <td>2006</td>\n",
       "      <td>23</td>\n",
       "      <td>30</td>\n",
       "      <td>8</td>\n",
       "    </tr>\n",
       "    <tr>\n",
       "      <th>3</th>\n",
       "      <td>75</td>\n",
       "      <td>160</td>\n",
       "      <td>2.0</td>\n",
       "      <td>29</td>\n",
       "      <td>10</td>\n",
       "      <td>2006</td>\n",
       "      <td>23</td>\n",
       "      <td>16</td>\n",
       "      <td>52</td>\n",
       "    </tr>\n",
       "    <tr>\n",
       "      <th>4</th>\n",
       "      <td>75</td>\n",
       "      <td>163</td>\n",
       "      <td>4.0</td>\n",
       "      <td>29</td>\n",
       "      <td>10</td>\n",
       "      <td>2006</td>\n",
       "      <td>23</td>\n",
       "      <td>29</td>\n",
       "      <td>30</td>\n",
       "    </tr>\n",
       "  </tbody>\n",
       "</table>\n",
       "</div>"
      ],
      "text/plain": [
       "   userID  movieID  rating  day  month  year  hour  minute  second\n",
       "0      75        3     1.0   29     10  2006    23      17      16\n",
       "1      75       32     4.5   29     10  2006    23      23      44\n",
       "2      75      110     4.0   29     10  2006    23      30       8\n",
       "3      75      160     2.0   29     10  2006    23      16      52\n",
       "4      75      163     4.0   29     10  2006    23      29      30"
      ]
     },
     "execution_count": 27,
     "metadata": {},
     "output_type": "execute_result"
    }
   ],
   "source": [
    "df_rates.head()"
   ]
  },
  {
   "cell_type": "code",
   "execution_count": 28,
   "metadata": {
    "collapsed": true
   },
   "outputs": [],
   "source": [
    "df_rates.loc[:, 'datetime'] = pd.to_datetime(df_rates.iloc[:, 3:])"
   ]
  },
  {
   "cell_type": "code",
   "execution_count": 30,
   "metadata": {},
   "outputs": [
    {
     "data": {
      "text/html": [
       "<div>\n",
       "<style>\n",
       "    .dataframe thead tr:only-child th {\n",
       "        text-align: right;\n",
       "    }\n",
       "\n",
       "    .dataframe thead th {\n",
       "        text-align: left;\n",
       "    }\n",
       "\n",
       "    .dataframe tbody tr th {\n",
       "        vertical-align: top;\n",
       "    }\n",
       "</style>\n",
       "<table border=\"1\" class=\"dataframe\">\n",
       "  <thead>\n",
       "    <tr style=\"text-align: right;\">\n",
       "      <th></th>\n",
       "      <th>userID</th>\n",
       "      <th>movieID</th>\n",
       "      <th>rating</th>\n",
       "      <th>day</th>\n",
       "      <th>month</th>\n",
       "      <th>year</th>\n",
       "      <th>hour</th>\n",
       "      <th>minute</th>\n",
       "      <th>second</th>\n",
       "      <th>datetime</th>\n",
       "    </tr>\n",
       "  </thead>\n",
       "  <tbody>\n",
       "    <tr>\n",
       "      <th>0</th>\n",
       "      <td>75</td>\n",
       "      <td>3</td>\n",
       "      <td>1.0</td>\n",
       "      <td>29</td>\n",
       "      <td>10</td>\n",
       "      <td>2006</td>\n",
       "      <td>23</td>\n",
       "      <td>17</td>\n",
       "      <td>16</td>\n",
       "      <td>2006-10-29 23:17:16</td>\n",
       "    </tr>\n",
       "    <tr>\n",
       "      <th>1</th>\n",
       "      <td>75</td>\n",
       "      <td>32</td>\n",
       "      <td>4.5</td>\n",
       "      <td>29</td>\n",
       "      <td>10</td>\n",
       "      <td>2006</td>\n",
       "      <td>23</td>\n",
       "      <td>23</td>\n",
       "      <td>44</td>\n",
       "      <td>2006-10-29 23:23:44</td>\n",
       "    </tr>\n",
       "    <tr>\n",
       "      <th>2</th>\n",
       "      <td>75</td>\n",
       "      <td>110</td>\n",
       "      <td>4.0</td>\n",
       "      <td>29</td>\n",
       "      <td>10</td>\n",
       "      <td>2006</td>\n",
       "      <td>23</td>\n",
       "      <td>30</td>\n",
       "      <td>8</td>\n",
       "      <td>2006-10-29 23:30:08</td>\n",
       "    </tr>\n",
       "    <tr>\n",
       "      <th>3</th>\n",
       "      <td>75</td>\n",
       "      <td>160</td>\n",
       "      <td>2.0</td>\n",
       "      <td>29</td>\n",
       "      <td>10</td>\n",
       "      <td>2006</td>\n",
       "      <td>23</td>\n",
       "      <td>16</td>\n",
       "      <td>52</td>\n",
       "      <td>2006-10-29 23:16:52</td>\n",
       "    </tr>\n",
       "    <tr>\n",
       "      <th>4</th>\n",
       "      <td>75</td>\n",
       "      <td>163</td>\n",
       "      <td>4.0</td>\n",
       "      <td>29</td>\n",
       "      <td>10</td>\n",
       "      <td>2006</td>\n",
       "      <td>23</td>\n",
       "      <td>29</td>\n",
       "      <td>30</td>\n",
       "      <td>2006-10-29 23:29:30</td>\n",
       "    </tr>\n",
       "  </tbody>\n",
       "</table>\n",
       "</div>"
      ],
      "text/plain": [
       "   userID  movieID  rating  day  month  year  hour  minute  second  \\\n",
       "0      75        3     1.0   29     10  2006    23      17      16   \n",
       "1      75       32     4.5   29     10  2006    23      23      44   \n",
       "2      75      110     4.0   29     10  2006    23      30       8   \n",
       "3      75      160     2.0   29     10  2006    23      16      52   \n",
       "4      75      163     4.0   29     10  2006    23      29      30   \n",
       "\n",
       "             datetime  \n",
       "0 2006-10-29 23:17:16  \n",
       "1 2006-10-29 23:23:44  \n",
       "2 2006-10-29 23:30:08  \n",
       "3 2006-10-29 23:16:52  \n",
       "4 2006-10-29 23:29:30  "
      ]
     },
     "execution_count": 30,
     "metadata": {},
     "output_type": "execute_result"
    }
   ],
   "source": [
    "df_rates.head()"
   ]
  },
  {
   "cell_type": "code",
   "execution_count": 31,
   "metadata": {},
   "outputs": [],
   "source": [
    "q = df_rates.datetime.quantile(0.85)"
   ]
  },
  {
   "cell_type": "code",
   "execution_count": 32,
   "metadata": {},
   "outputs": [
    {
     "data": {
      "text/plain": [
       "Timestamp('2008-02-01 04:37:26.349999872')"
      ]
     },
     "execution_count": 32,
     "metadata": {},
     "output_type": "execute_result"
    }
   ],
   "source": [
    "q"
   ]
  },
  {
   "cell_type": "code",
   "execution_count": 33,
   "metadata": {
    "collapsed": true
   },
   "outputs": [],
   "source": [
    "filepath = './data/user_ratedmovies_train.dat'\n",
    "idx = df_rates.datetime < q\n",
    "df_rates.loc[idx].to_csv(filepath, sep='\\t', columns=['userID', 'movieID', 'rating'], index=None)\n",
    "\n",
    "filepath = './data/user_ratedmovies_test.dat'\n",
    "df_rates.loc[~idx].to_csv(filepath, sep='\\t', columns=['userID', 'movieID', 'rating'], index=None)"
   ]
  },
  {
   "cell_type": "code",
   "execution_count": 36,
   "metadata": {
    "collapsed": true
   },
   "outputs": [],
   "source": [
    "from surprise import Dataset\n",
    "from surprise import Reader"
   ]
  },
  {
   "cell_type": "code",
   "execution_count": 37,
   "metadata": {},
   "outputs": [],
   "source": [
    "filepaths = [('./data/user_ratedmovies_train.dat', './data/user_ratedmovies_test.dat')]\n",
    "reader = Reader(line_format='user item rating', sep='\\t', skip_lines=1)\n",
    "data = Dataset.load_from_folds(filepaths, reader=reader)"
   ]
  },
  {
   "cell_type": "code",
   "execution_count": 38,
   "metadata": {
    "collapsed": true
   },
   "outputs": [],
   "source": [
    "from surprise import KNNBasic, KNNWithMeans\n",
    "from surprise.accuracy import rmse\n",
    "from surprise import dump"
   ]
  },
  {
   "cell_type": "markdown",
   "metadata": {},
   "source": [
    "Описание алгоритмов, основанных на CF - [туть](http://surprise.readthedocs.io/en/stable/knn_inspired.html)"
   ]
  },
  {
   "cell_type": "code",
   "execution_count": 39,
   "metadata": {
    "collapsed": true
   },
   "outputs": [],
   "source": [
    "sim_options = {'name': 'cosine',\n",
    "               'user_based': True\n",
    "               }"
   ]
  },
  {
   "cell_type": "code",
   "execution_count": 40,
   "metadata": {
    "collapsed": true
   },
   "outputs": [],
   "source": [
    "dumpfile = './alg.dump'"
   ]
  },
  {
   "cell_type": "code",
   "execution_count": 50,
   "metadata": {},
   "outputs": [
    {
     "name": "stdout",
     "output_type": "stream",
     "text": [
      "Computing the cosine similarity matrix...\n",
      "Done computing similarity matrix.\n",
      "RMSE: 0.9405\n"
     ]
    }
   ],
   "source": [
    "algo = KNNBasic(k=20, min_k=1, sim_options=sim_options)                                                       \n",
    "\n",
    "for trainset, testset in data.folds(): \n",
    "    algo.train(trainset)                             \n",
    "    predictions = algo.test(testset)\n",
    "    rmse(predictions)\n",
    "    \n",
    "#     dump.dump(dumpfile, predictions, algo)"
   ]
  },
  {
   "cell_type": "code",
   "execution_count": 51,
   "metadata": {
    "collapsed": true
   },
   "outputs": [],
   "source": [
    "df_predictions = pd.DataFrame(predictions, \n",
    "                              columns=['uid', 'iid', 'rui', 'est', 'details']) "
   ]
  },
  {
   "cell_type": "code",
   "execution_count": 52,
   "metadata": {},
   "outputs": [
    {
     "data": {
      "text/html": [
       "<div>\n",
       "<style>\n",
       "    .dataframe thead tr:only-child th {\n",
       "        text-align: right;\n",
       "    }\n",
       "\n",
       "    .dataframe thead th {\n",
       "        text-align: left;\n",
       "    }\n",
       "\n",
       "    .dataframe tbody tr th {\n",
       "        vertical-align: top;\n",
       "    }\n",
       "</style>\n",
       "<table border=\"1\" class=\"dataframe\">\n",
       "  <thead>\n",
       "    <tr style=\"text-align: right;\">\n",
       "      <th></th>\n",
       "      <th>uid</th>\n",
       "      <th>iid</th>\n",
       "      <th>rui</th>\n",
       "      <th>est</th>\n",
       "      <th>details</th>\n",
       "    </tr>\n",
       "  </thead>\n",
       "  <tbody>\n",
       "    <tr>\n",
       "      <th>0</th>\n",
       "      <td>190</td>\n",
       "      <td>173</td>\n",
       "      <td>1.0</td>\n",
       "      <td>2.846192</td>\n",
       "      <td>{u'actual_k': 20, u'was_impossible': False}</td>\n",
       "    </tr>\n",
       "    <tr>\n",
       "      <th>1</th>\n",
       "      <td>190</td>\n",
       "      <td>367</td>\n",
       "      <td>3.0</td>\n",
       "      <td>3.177670</td>\n",
       "      <td>{u'actual_k': 20, u'was_impossible': False}</td>\n",
       "    </tr>\n",
       "    <tr>\n",
       "      <th>2</th>\n",
       "      <td>190</td>\n",
       "      <td>368</td>\n",
       "      <td>3.0</td>\n",
       "      <td>3.524366</td>\n",
       "      <td>{u'actual_k': 20, u'was_impossible': False}</td>\n",
       "    </tr>\n",
       "    <tr>\n",
       "      <th>3</th>\n",
       "      <td>190</td>\n",
       "      <td>380</td>\n",
       "      <td>2.5</td>\n",
       "      <td>3.725124</td>\n",
       "      <td>{u'actual_k': 20, u'was_impossible': False}</td>\n",
       "    </tr>\n",
       "    <tr>\n",
       "      <th>4</th>\n",
       "      <td>190</td>\n",
       "      <td>480</td>\n",
       "      <td>4.5</td>\n",
       "      <td>3.827351</td>\n",
       "      <td>{u'actual_k': 20, u'was_impossible': False}</td>\n",
       "    </tr>\n",
       "  </tbody>\n",
       "</table>\n",
       "</div>"
      ],
      "text/plain": [
       "   uid  iid  rui       est                                      details\n",
       "0  190  173  1.0  2.846192  {u'actual_k': 20, u'was_impossible': False}\n",
       "1  190  367  3.0  3.177670  {u'actual_k': 20, u'was_impossible': False}\n",
       "2  190  368  3.0  3.524366  {u'actual_k': 20, u'was_impossible': False}\n",
       "3  190  380  2.5  3.725124  {u'actual_k': 20, u'was_impossible': False}\n",
       "4  190  480  4.5  3.827351  {u'actual_k': 20, u'was_impossible': False}"
      ]
     },
     "execution_count": 52,
     "metadata": {},
     "output_type": "execute_result"
    }
   ],
   "source": [
    "df_predictions.head()\n"
   ]
  },
  {
   "cell_type": "code",
   "execution_count": 53,
   "metadata": {
    "collapsed": true
   },
   "outputs": [],
   "source": [
    "df_predictions.loc[:, 'error'] = df_predictions.rui - df_predictions.est"
   ]
  },
  {
   "cell_type": "code",
   "execution_count": 54,
   "metadata": {},
   "outputs": [
    {
     "data": {
      "text/plain": [
       "<matplotlib.axes._subplots.AxesSubplot at 0x13714e350>"
      ]
     },
     "execution_count": 54,
     "metadata": {},
     "output_type": "execute_result"
    },
    {
     "data": {
      "image/png": "[encoded data removed]",
      "text/plain": [
       "<matplotlib.figure.Figure at 0x13784ec10>"
      ]
     },
     "metadata": {},
     "output_type": "display_data"
    }
   ],
   "source": [
    "df_predictions.loc[:, 'error'].hist()"
   ]
  },
  {
   "cell_type": "code",
   "execution_count": 47,
   "metadata": {},
   "outputs": [
    {
     "data": {
      "text/plain": [
       "<matplotlib.axes._subplots.AxesSubplot at 0x11362a590>"
      ]
     },
     "execution_count": 47,
     "metadata": {},
     "output_type": "execute_result"
    },
    {
     "data": {
      "image/png": "[encoded data removed]",
      "text/plain": [
       "<matplotlib.figure.Figure at 0x1462bec90>"
      ]
     },
     "metadata": {},
     "output_type": "display_data"
    }
   ],
   "source": [
    "df_predictions.loc[:, 'error'].hist()"
   ]
  },
  {
   "cell_type": "code",
   "execution_count": 49,
   "metadata": {},
   "outputs": [
    {
     "data": {
      "text/plain": [
       "Prediction(uid='190', iid='173', r_ui=None, est=2.2253187695680063, details={u'actual_k': 20, u'was_impossible': False})"
      ]
     },
     "execution_count": 49,
     "metadata": {},
     "output_type": "execute_result"
    }
   ],
   "source": [
    "algo.predict('190', '173', verbose=0)"
   ]
  },
  {
   "cell_type": "code",
   "execution_count": 55,
   "metadata": {
    "collapsed": true
   },
   "outputs": [],
   "source": [
    "anti_train = trainset.build_anti_testset()"
   ]
  },
  {
   "cell_type": "code",
   "execution_count": 56,
   "metadata": {
    "collapsed": true
   },
   "outputs": [],
   "source": [
    "one_user = filter(lambda r: r[0] == '75', anti_train)"
   ]
  },
  {
   "cell_type": "code",
   "execution_count": 57,
   "metadata": {
    "collapsed": true
   },
   "outputs": [],
   "source": [
    "# Это будет долго..\n",
    "# anti_train_predictions = algo.test(one_user)\n",
    "\n",
    "anti_train_predictions = algo.test(one_user)"
   ]
  },
  {
   "cell_type": "code",
   "execution_count": 58,
   "metadata": {
    "collapsed": true
   },
   "outputs": [],
   "source": [
    "from collections import defaultdict\n",
    "\n",
    "def get_top_n(predictions, n=10):\n",
    "\n",
    "    # First map the predictions to each user.\n",
    "    top_n = defaultdict(list)\n",
    "    for uid, iid, true_r, est, _ in predictions:\n",
    "        top_n[uid].append((iid, est))\n",
    "\n",
    "    # Then sort the predictions for each user and retrieve the k highest ones.\n",
    "    for uid, user_ratings in top_n.items():\n",
    "        user_ratings.sort(key=lambda x: x[1], reverse=True)\n",
    "        top_n[uid] = user_ratings[:n]\n",
    "\n",
    "    return top_n"
   ]
  },
  {
   "cell_type": "code",
   "execution_count": 59,
   "metadata": {},
   "outputs": [
    {
     "data": {
      "text/plain": [
       "u'To the Devil a Daughter'"
      ]
     },
     "execution_count": 59,
     "metadata": {},
     "output_type": "execute_result"
    }
   ],
   "source": [
    "df_movies.loc['5695', 'title']"
   ]
  },
  {
   "cell_type": "code",
   "execution_count": 60,
   "metadata": {},
   "outputs": [
    {
     "name": "stdout",
     "output_type": "stream",
     "text": [
      "('75', [u'Brother Minister: The Assassination of Malcolm X', u'Synthetic Pleasures', u'Gabbeh', u'La mort en ce jardin', u'Passion', u'The Monster Club', u'Ko to tamo peva', u'Storefront Hitchcock', u\"La vie et rien d'autre\", u'Frankenstein and the Monster from Hell'])\n"
     ]
    }
   ],
   "source": [
    "top_n = get_top_n(anti_train_predictions, n=10)\n",
    "\n",
    "for uid, user_ratings in top_n.items():\n",
    "    print(uid, [df_movies.loc[iid, 'title'] for (iid, _) in user_ratings])"
   ]
  },
  {
   "cell_type": "markdown",
   "metadata": {
    "slideshow": {
     "slide_type": "slide"
    }
   },
   "source": [
    "# Модели со скрытыми факторами"
   ]
  },
  {
   "cell_type": "markdown",
   "metadata": {
    "collapsed": true,
    "slideshow": {
     "slide_type": "subslide"
    }
   },
   "source": [
    "Для каждого пользователя и товара построим векторы $p_u\\in \\mathbb{R}^{k}$ и $q_i \\in \\mathbb{R}^{k}$ так, чтобы\n",
    "$$ R_{ui} \\approx p_u^\\top q_i $$\n",
    "\n",
    "* $p_u$ иногда получается интерпретировать как заинтересованность пользователя в некоторой категории товаров\n",
    "* $q_i$ иногда получается интерпретировать как принадлежность товара к определенной категории\n",
    "\n",
    "Кроме того, в полученном пространстве, можно считать похожесть пользователей и товаров"
   ]
  },
  {
   "cell_type": "markdown",
   "metadata": {
    "slideshow": {
     "slide_type": "subslide"
    }
   },
   "source": [
    "<center><img src='img/matrix_factorization.png' width=600></center>"
   ]
  },
  {
   "cell_type": "markdown",
   "metadata": {},
   "source": [
    "## Non-negative Matrix Factorization\n",
    "\n",
    "* $P \\geq 0$\n",
    "* $Q \\geq 0$"
   ]
  },
  {
   "cell_type": "markdown",
   "metadata": {
    "slideshow": {
     "slide_type": "subslide"
    }
   },
   "source": [
    "## SVD разложение\n",
    "<center><img src='img/svd.png' width=600></center>"
   ]
  },
  {
   "cell_type": "markdown",
   "metadata": {
    "slideshow": {
     "slide_type": "subslide"
    }
   },
   "source": [
    "* Надо чем-то заполнить пропуски\n",
    "    * Нулями\n",
    "    * Базовыми предсказаниями\n",
    "* Как вариант \n",
    "    * $R' = R-B$ и заполнить $0$\n",
    "* Таким образом:\n",
    "    * $P = U\\sqrt{\\Sigma}$\n",
    "    * $Q = \\sqrt{\\Sigma}V^\\top$\n",
    "    * $\\hat{R} = P^\\top Q$\n",
    "* А как делать предсказания для новых пользователей?"
   ]
  },
  {
   "cell_type": "markdown",
   "metadata": {
    "slideshow": {
     "slide_type": "subslide"
    }
   },
   "source": [
    "##  Latent Factor Model\n",
    "* Будем оптимизировать следующий функционал\n",
    "$$ \\sum\\limits_{u,i}(R_{ui} - \\bar{R}_u - \\bar{R}_i - \\langle p_u, q_i \\rangle)^2 + \\lambda \\sum_u\\| p_u \\|^2 + \\mu\\sum_i\\| q_i \\|^2 \\rightarrow \\min\\limits_{P, Q} $$\n",
    "* С помощью градиентного спуска (на каждом шаге случайно выбирая пару $(u,i)$:\n",
    "$$ p_{uk} = p_{uk} + 2\\alpha \\left(q_{ik}(R_{ui} - \\bar{R}_u - \\bar{R}_i - \\langle p_u, q_i \\rangle) - \\lambda p_{uk}\\right)$$\n",
    "$$ q_{ik} = q_{ik} + 2\\alpha \\left(p_{uk}(R_{ui} - \\bar{R}_u - \\bar{R}_i - \\langle p_u, q_i \\rangle) - \\mu q_{ik}\\right)$$"
   ]
  },
  {
   "cell_type": "markdown",
   "metadata": {},
   "source": [
    "## Демо SVD"
   ]
  },
  {
   "cell_type": "markdown",
   "metadata": {},
   "source": [
    "### Перекодируем ID фильмов и пользователей"
   ]
  },
  {
   "cell_type": "code",
   "execution_count": 61,
   "metadata": {
    "collapsed": true
   },
   "outputs": [],
   "source": [
    "filepath = './data/user_ratedmovies.dat'\n",
    "df_rates = pd.read_csv(filepath, sep='\\t')\n",
    "\n",
    "filepath = './data/movies.dat'\n",
    "df_movies = pd.read_csv(filepath, sep='\\t', encoding='iso-8859-1')"
   ]
  },
  {
   "cell_type": "code",
   "execution_count": 62,
   "metadata": {
    "collapsed": true
   },
   "outputs": [],
   "source": [
    "from sklearn.preprocessing import LabelEncoder"
   ]
  },
  {
   "cell_type": "code",
   "execution_count": 63,
   "metadata": {
    "collapsed": true
   },
   "outputs": [],
   "source": [
    "mov_enc = LabelEncoder()\n",
    "mov_enc.fit(df_rates.movieID.values)\n",
    "n_movies = df_rates.movieID.nunique()"
   ]
  },
  {
   "cell_type": "code",
   "execution_count": 64,
   "metadata": {
    "collapsed": true
   },
   "outputs": [],
   "source": [
    "user_enc = LabelEncoder()\n",
    "user_enc.fit(df_rates.userID.values)\n",
    "n_users = df_rates.userID.nunique()"
   ]
  },
  {
   "cell_type": "code",
   "execution_count": 65,
   "metadata": {
    "collapsed": true
   },
   "outputs": [],
   "source": [
    "idx = df_movies.loc[:, 'id'].isin(df_rates.movieID)\n",
    "df_movies = df_movies.loc[idx, :]"
   ]
  },
  {
   "cell_type": "code",
   "execution_count": 66,
   "metadata": {
    "collapsed": true
   },
   "outputs": [],
   "source": [
    "df_rates.loc[:, 'movieID'] = mov_enc.transform(df_rates.movieID.values)\n",
    "df_movies.loc[:, 'id'] = mov_enc.transform(df_movies.loc[:, 'id'].values)\n",
    "df_rates.loc[:, 'userID'] = user_enc.transform(df_rates.userID.values)"
   ]
  },
  {
   "cell_type": "code",
   "execution_count": 68,
   "metadata": {
    "scrolled": true
   },
   "outputs": [
    {
     "data": {
      "text/html": [
       "<div>\n",
       "<style>\n",
       "    .dataframe thead tr:only-child th {\n",
       "        text-align: right;\n",
       "    }\n",
       "\n",
       "    .dataframe thead th {\n",
       "        text-align: left;\n",
       "    }\n",
       "\n",
       "    .dataframe tbody tr th {\n",
       "        vertical-align: top;\n",
       "    }\n",
       "</style>\n",
       "<table border=\"1\" class=\"dataframe\">\n",
       "  <thead>\n",
       "    <tr style=\"text-align: right;\">\n",
       "      <th></th>\n",
       "      <th>userID</th>\n",
       "      <th>movieID</th>\n",
       "      <th>rating</th>\n",
       "      <th>date_day</th>\n",
       "      <th>date_month</th>\n",
       "      <th>date_year</th>\n",
       "      <th>date_hour</th>\n",
       "      <th>date_minute</th>\n",
       "      <th>date_second</th>\n",
       "    </tr>\n",
       "  </thead>\n",
       "  <tbody>\n",
       "    <tr>\n",
       "      <th>0</th>\n",
       "      <td>0</td>\n",
       "      <td>2</td>\n",
       "      <td>1.0</td>\n",
       "      <td>29</td>\n",
       "      <td>10</td>\n",
       "      <td>2006</td>\n",
       "      <td>23</td>\n",
       "      <td>17</td>\n",
       "      <td>16</td>\n",
       "    </tr>\n",
       "    <tr>\n",
       "      <th>1</th>\n",
       "      <td>0</td>\n",
       "      <td>31</td>\n",
       "      <td>4.5</td>\n",
       "      <td>29</td>\n",
       "      <td>10</td>\n",
       "      <td>2006</td>\n",
       "      <td>23</td>\n",
       "      <td>23</td>\n",
       "      <td>44</td>\n",
       "    </tr>\n",
       "    <tr>\n",
       "      <th>2</th>\n",
       "      <td>0</td>\n",
       "      <td>105</td>\n",
       "      <td>4.0</td>\n",
       "      <td>29</td>\n",
       "      <td>10</td>\n",
       "      <td>2006</td>\n",
       "      <td>23</td>\n",
       "      <td>30</td>\n",
       "      <td>8</td>\n",
       "    </tr>\n",
       "    <tr>\n",
       "      <th>3</th>\n",
       "      <td>0</td>\n",
       "      <td>151</td>\n",
       "      <td>2.0</td>\n",
       "      <td>29</td>\n",
       "      <td>10</td>\n",
       "      <td>2006</td>\n",
       "      <td>23</td>\n",
       "      <td>16</td>\n",
       "      <td>52</td>\n",
       "    </tr>\n",
       "    <tr>\n",
       "      <th>4</th>\n",
       "      <td>0</td>\n",
       "      <td>154</td>\n",
       "      <td>4.0</td>\n",
       "      <td>29</td>\n",
       "      <td>10</td>\n",
       "      <td>2006</td>\n",
       "      <td>23</td>\n",
       "      <td>29</td>\n",
       "      <td>30</td>\n",
       "    </tr>\n",
       "  </tbody>\n",
       "</table>\n",
       "</div>"
      ],
      "text/plain": [
       "   userID  movieID  rating  date_day  date_month  date_year  date_hour  \\\n",
       "0       0        2     1.0        29          10       2006         23   \n",
       "1       0       31     4.5        29          10       2006         23   \n",
       "2       0      105     4.0        29          10       2006         23   \n",
       "3       0      151     2.0        29          10       2006         23   \n",
       "4       0      154     4.0        29          10       2006         23   \n",
       "\n",
       "   date_minute  date_second  \n",
       "0           17           16  \n",
       "1           23           44  \n",
       "2           30            8  \n",
       "3           16           52  \n",
       "4           29           30  "
      ]
     },
     "execution_count": 68,
     "metadata": {},
     "output_type": "execute_result"
    }
   ],
   "source": [
    "df_rates.head()"
   ]
  },
  {
   "cell_type": "markdown",
   "metadata": {},
   "source": [
    "### В явном виде запишем матрицу рейтингов"
   ]
  },
  {
   "cell_type": "code",
   "execution_count": 69,
   "metadata": {
    "collapsed": true
   },
   "outputs": [],
   "source": [
    "from scipy.sparse import coo_matrix, csr_matrix"
   ]
  },
  {
   "cell_type": "code",
   "execution_count": 70,
   "metadata": {
    "collapsed": true
   },
   "outputs": [],
   "source": [
    "n_users_train = df_rates.userID.nunique()\n",
    "R_train = coo_matrix((df_rates.rating, \n",
    "                     (df_rates.userID.values, df_rates.movieID.values)),\n",
    "                     shape=(n_users, n_movies))"
   ]
  },
  {
   "cell_type": "code",
   "execution_count": 71,
   "metadata": {},
   "outputs": [
    {
     "data": {
      "text/plain": [
       "<2113x10109 sparse matrix of type '<type 'numpy.float64'>'\n",
       "\twith 855598 stored elements in COOrdinate format>"
      ]
     },
     "execution_count": 71,
     "metadata": {},
     "output_type": "execute_result"
    }
   ],
   "source": [
    "R_train"
   ]
  },
  {
   "cell_type": "code",
   "execution_count": 72,
   "metadata": {
    "collapsed": true
   },
   "outputs": [],
   "source": [
    "from scipy.sparse.linalg import svds"
   ]
  },
  {
   "cell_type": "code",
   "execution_count": 73,
   "metadata": {
    "collapsed": true
   },
   "outputs": [],
   "source": [
    "u, s, vt = svds(R_train, k=10, )"
   ]
  },
  {
   "cell_type": "code",
   "execution_count": 76,
   "metadata": {},
   "outputs": [
    {
     "data": {
      "text/plain": [
       "(2113, 10)"
      ]
     },
     "execution_count": 76,
     "metadata": {},
     "output_type": "execute_result"
    }
   ],
   "source": [
    "u.shape"
   ]
  },
  {
   "cell_type": "code",
   "execution_count": 74,
   "metadata": {},
   "outputs": [
    {
     "data": {
      "text/plain": [
       "(10, 10109)"
      ]
     },
     "execution_count": 74,
     "metadata": {},
     "output_type": "execute_result"
    }
   ],
   "source": [
    "vt.shape"
   ]
  },
  {
   "cell_type": "code",
   "execution_count": 77,
   "metadata": {
    "collapsed": true
   },
   "outputs": [],
   "source": [
    "from sklearn.neighbors import NearestNeighbors"
   ]
  },
  {
   "cell_type": "code",
   "execution_count": 78,
   "metadata": {
    "collapsed": true
   },
   "outputs": [],
   "source": [
    "nn = NearestNeighbors(n_neighbors=10, metric='cosine')"
   ]
  },
  {
   "cell_type": "code",
   "execution_count": 79,
   "metadata": {
    "collapsed": true
   },
   "outputs": [],
   "source": [
    "v = vt.T"
   ]
  },
  {
   "cell_type": "code",
   "execution_count": 80,
   "metadata": {},
   "outputs": [
    {
     "data": {
      "text/plain": [
       "NearestNeighbors(algorithm='auto', leaf_size=30, metric='cosine',\n",
       "         metric_params=None, n_jobs=1, n_neighbors=10, p=2, radius=1.0)"
      ]
     },
     "execution_count": 80,
     "metadata": {},
     "output_type": "execute_result"
    }
   ],
   "source": [
    "nn.fit(v)"
   ]
  },
  {
   "cell_type": "code",
   "execution_count": 81,
   "metadata": {
    "collapsed": true
   },
   "outputs": [],
   "source": [
    "ind = nn.kneighbors(v, return_distance=False)"
   ]
  },
  {
   "cell_type": "code",
   "execution_count": 82,
   "metadata": {
    "collapsed": true
   },
   "outputs": [],
   "source": [
    "m_names = df_movies.title.values"
   ]
  },
  {
   "cell_type": "code",
   "execution_count": 83,
   "metadata": {
    "collapsed": true
   },
   "outputs": [],
   "source": [
    "m_names = pd.DataFrame(data=m_names[ind], columns=['movie']+['nn_{}'.format(i) for i in range(1,10)])"
   ]
  },
  {
   "cell_type": "code",
   "execution_count": 87,
   "metadata": {},
   "outputs": [
    {
     "data": {
      "text/html": [
       "<div>\n",
       "<style>\n",
       "    .dataframe thead tr:only-child th {\n",
       "        text-align: right;\n",
       "    }\n",
       "\n",
       "    .dataframe thead th {\n",
       "        text-align: left;\n",
       "    }\n",
       "\n",
       "    .dataframe tbody tr th {\n",
       "        vertical-align: top;\n",
       "    }\n",
       "</style>\n",
       "<table border=\"1\" class=\"dataframe\">\n",
       "  <thead>\n",
       "    <tr style=\"text-align: right;\">\n",
       "      <th></th>\n",
       "      <th>movie</th>\n",
       "      <th>nn_1</th>\n",
       "      <th>nn_2</th>\n",
       "      <th>nn_3</th>\n",
       "      <th>nn_4</th>\n",
       "      <th>nn_5</th>\n",
       "      <th>nn_6</th>\n",
       "      <th>nn_7</th>\n",
       "      <th>nn_8</th>\n",
       "      <th>nn_9</th>\n",
       "    </tr>\n",
       "  </thead>\n",
       "  <tbody>\n",
       "    <tr>\n",
       "      <th>2858</th>\n",
       "      <td>Toy Story</td>\n",
       "      <td>Aladdin</td>\n",
       "      <td>Toy story</td>\n",
       "      <td>A Bug's Life</td>\n",
       "      <td>Monsters, Inc.</td>\n",
       "      <td>Finding Nemo</td>\n",
       "      <td>Beauty and the Beast</td>\n",
       "      <td>Muppet Treasure Island</td>\n",
       "      <td>The Incredibles</td>\n",
       "      <td>A Claymation Christmas Celebration</td>\n",
       "    </tr>\n",
       "    <tr>\n",
       "      <th>4589</th>\n",
       "      <td>Toy Story</td>\n",
       "      <td>European Vacation</td>\n",
       "      <td>What About Bob?</td>\n",
       "      <td>Adventures in Babysitting</td>\n",
       "      <td>Weekend at Bernie's</td>\n",
       "      <td>¡Three Amigos!</td>\n",
       "      <td>Scrooged</td>\n",
       "      <td>Weird Science</td>\n",
       "      <td>Back to School</td>\n",
       "      <td>Vacation</td>\n",
       "    </tr>\n",
       "  </tbody>\n",
       "</table>\n",
       "</div>"
      ],
      "text/plain": [
       "          movie               nn_1             nn_2  \\\n",
       "2858  Toy Story            Aladdin        Toy story   \n",
       "4589  Toy Story  European Vacation  What About Bob?   \n",
       "\n",
       "                           nn_3                 nn_4            nn_5  \\\n",
       "2858               A Bug's Life       Monsters, Inc.    Finding Nemo   \n",
       "4589  Adventures in Babysitting  Weekend at Bernie's  ¡Three Amigos!   \n",
       "\n",
       "                      nn_6                    nn_7             nn_8  \\\n",
       "2858  Beauty and the Beast  Muppet Treasure Island  The Incredibles   \n",
       "4589              Scrooged           Weird Science   Back to School   \n",
       "\n",
       "                                    nn_9  \n",
       "2858  A Claymation Christmas Celebration  \n",
       "4589                            Vacation  "
      ]
     },
     "execution_count": 87,
     "metadata": {},
     "output_type": "execute_result"
    }
   ],
   "source": [
    "idx = m_names.movie.str.contains('^Toy Story')\n",
    "m_names.loc[idx]"
   ]
  },
  {
   "cell_type": "markdown",
   "metadata": {},
   "source": [
    "# Оценка качества"
   ]
  },
  {
   "cell_type": "markdown",
   "metadata": {},
   "source": [
    "* Качество рейтингов\n",
    "    * MAE, MSE\n",
    "* Качество событий\n",
    "    * F-score, ROC-AUC, PR-AUC\n",
    "    * precision@k, recall@k"
   ]
  }
 ],
 "metadata": {
  "anaconda-cloud": {},
  "kernelspec": {
   "display_name": "Python [conda root]",
   "language": "python",
   "name": "conda-root-py"
  },
  "language_info": {
   "codemirror_mode": {
    "name": "ipython",
    "version": 2
   },
   "file_extension": ".py",
   "mimetype": "text/x-python",
   "name": "python",
   "nbconvert_exporter": "python",
   "pygments_lexer": "ipython2",
   "version": "2.7.14"
  },
  "nav_menu": {},
  "toc": {
   "colors": {
    "hover_highlight": "#DAA520",
    "navigate_num": "#000000",
    "navigate_text": "#333333",
    "running_highlight": "#FF0000",
    "selected_highlight": "#FFD700",
    "sidebar_border": "#EEEEEE",
    "wrapper_background": "#FFFFFF"
   },
   "moveMenuLeft": true,
   "nav_menu": {
    "height": "347px",
    "width": "253px"
   },
   "navigate_menu": true,
   "number_sections": false,
   "sideBar": false,
   "threshold": 4,
   "toc_cell": true,
   "toc_position": {
    "height": "40px",
    "left": "952px",
    "right": "9.46667px",
    "top": "100px",
    "width": "182px"
   },
   "toc_section_display": "none",
   "toc_window_display": true,
   "widenNotebook": false
  },
  "toc_position": {
   "height": "40px",
   "left": "816px",
   "right": "38.6667px",
   "top": "0px",
   "width": "212px"
  }
 },
 "nbformat": 4,
 "nbformat_minor": 1
}
